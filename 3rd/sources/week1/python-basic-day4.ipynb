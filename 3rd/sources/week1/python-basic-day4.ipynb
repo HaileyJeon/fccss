{
 "cells": [
  {
   "cell_type": "code",
   "execution_count": 1,
   "metadata": {
    "collapsed": false
   },
   "outputs": [
    {
     "data": {
      "text/plain": [
       "10"
      ]
     },
     "execution_count": 1,
     "metadata": {},
     "output_type": "execute_result"
    }
   ],
   "source": [
    "# 아주 멋진 Awe-sum함수 만들기\n",
    "def awe_sum(a,b):\n",
    "    result = 0\n",
    "    result = a + b\n",
    "    return result\n",
    "\n",
    "awe_sum(4,6)"
   ]
  },
  {
   "cell_type": "code",
   "execution_count": 2,
   "metadata": {
    "collapsed": false
   },
   "outputs": [
    {
     "data": {
      "text/plain": [
       "'hello'"
      ]
     },
     "execution_count": 2,
     "metadata": {},
     "output_type": "execute_result"
    }
   ],
   "source": [
    "def print_hello():\n",
    "    return \"hello\"\n",
    "\n",
    "print_hello()"
   ]
  },
  {
   "cell_type": "code",
   "execution_count": 4,
   "metadata": {
    "collapsed": false
   },
   "outputs": [
    {
     "name": "stdout",
     "output_type": "stream",
     "text": [
      "hi, this is fastcampus without return.\n"
     ]
    }
   ],
   "source": [
    "def func_wo_return(a):\n",
    "    print(\"hi, this is \" + str(a) + \" without return.\")\n",
    "    \n",
    "func_wo_return(\"fastcampus\")"
   ]
  },
  {
   "cell_type": "code",
   "execution_count": 5,
   "metadata": {
    "collapsed": false
   },
   "outputs": [
    {
     "data": {
      "text/plain": [
       "(23, 123)"
      ]
     },
     "execution_count": 5,
     "metadata": {},
     "output_type": "execute_result"
    }
   ],
   "source": [
    "def mul_return(a):\n",
    "    b = 0\n",
    "    b = a + 100\n",
    "    return a, b\n",
    "\n",
    "mul_return(23)"
   ]
  },
  {
   "cell_type": "code",
   "execution_count": 13,
   "metadata": {
    "collapsed": false
   },
   "outputs": [
    {
     "name": "stdout",
     "output_type": "stream",
     "text": [
      "invalid id: admin\n"
     ]
    }
   ],
   "source": [
    "def id_check(id):\n",
    "    if id == \"admin\":\n",
    "        print(\"invalid id: admin\")\n",
    "        return\n",
    "    print(\"valid id:\", id)\n",
    "        \n",
    "id_check(\"admin\")"
   ]
  },
  {
   "cell_type": "code",
   "execution_count": 16,
   "metadata": {
    "collapsed": false
   },
   "outputs": [
    {
     "name": "stdout",
     "output_type": "stream",
     "text": [
      "Hi, Ulgoon\n",
      "Oh, you are not Fool.\n"
     ]
    }
   ],
   "source": [
    "def say_hello(name=\"Fool\", nick=True):\n",
    "    print(\"Hi,\", name)\n",
    "    if nick == True:\n",
    "        print(\"But, you are Fool.\")\n",
    "    else:\n",
    "        print(\"Oh, you are not Fool.\")\n",
    "        \n",
    "say_hello(\"Ulgoon\", False)"
   ]
  },
  {
   "cell_type": "code",
   "execution_count": 18,
   "metadata": {
    "collapsed": false
   },
   "outputs": [
    {
     "data": {
      "text/plain": [
       "55"
      ]
     },
     "execution_count": 18,
     "metadata": {},
     "output_type": "execute_result"
    }
   ],
   "source": [
    "def mul_sum(*nums):\n",
    "    result = 0\n",
    "    for num in nums:\n",
    "        result = result + num\n",
    "    return result\n",
    "\n",
    "mul_sum(1,2,3,4,5,6,7,8,9,10)"
   ]
  },
  {
   "cell_type": "code",
   "execution_count": 19,
   "metadata": {
    "collapsed": false
   },
   "outputs": [
    {
     "name": "stdout",
     "output_type": "stream",
     "text": [
      "{'a': 10, 'b': 'google', 'c': 'fastcampus'}\n"
     ]
    }
   ],
   "source": [
    "def show_kwargs(**kwargs):\n",
    "    print(str(kwargs))\n",
    "    \n",
    "show_kwargs(a=10, b=\"google\", c=\"fastcampus\")"
   ]
  },
  {
   "cell_type": "code",
   "execution_count": 24,
   "metadata": {
    "collapsed": false
   },
   "outputs": [
    {
     "data": {
      "text/plain": [
       "'https://www.naver.com:8080?query=덩케르크'"
      ]
     },
     "execution_count": 24,
     "metadata": {},
     "output_type": "execute_result"
    }
   ],
   "source": [
    "def kwargs_url(server, port, **query):\n",
    "    url = \"https://\" + server + \":\" + port + \"?\"\n",
    "    for key in query.keys():\n",
    "        url = url + key + \"=\" + query[key] + \"&\"\n",
    "    return url\n",
    "\n",
    "kwargs_url(\"www.naver.com\", \"8080\", ie=\"utf-8\", query=\"덩케르크\")\n",
    "\n",
    "def wokwargs(server, port, query):\n",
    "    url = \"https://\" + server + \":\" + port + \"?query=\" + query\n",
    "    return url\n",
    "\n",
    "wokwargs(\"www.naver.com\", \"8080\", \"덩케르크\")"
   ]
  },
  {
   "cell_type": "code",
   "execution_count": 25,
   "metadata": {
    "collapsed": false
   },
   "outputs": [
    {
     "data": {
      "text/plain": [
       "'helloworld'"
      ]
     },
     "execution_count": 25,
     "metadata": {},
     "output_type": "execute_result"
    }
   ],
   "source": [
    "a = \"hello\"\n",
    "def glob_test(a):\n",
    "    a = a + \"world\"\n",
    "    return a\n",
    "glob_test(a)"
   ]
  },
  {
   "cell_type": "code",
   "execution_count": 26,
   "metadata": {
    "collapsed": false
   },
   "outputs": [
    {
     "data": {
      "text/plain": [
       "'helloworld'"
      ]
     },
     "execution_count": 26,
     "metadata": {},
     "output_type": "execute_result"
    }
   ],
   "source": [
    "a = \"hello\"\n",
    "def glob_test(x):\n",
    "    x = x + \"world\"\n",
    "    return x\n",
    "glob_test(a)"
   ]
  },
  {
   "cell_type": "code",
   "execution_count": 33,
   "metadata": {
    "collapsed": false
   },
   "outputs": [
    {
     "name": "stdout",
     "output_type": "stream",
     "text": [
      "year?? 2000\n",
      "윤년입니다\n"
     ]
    }
   ],
   "source": [
    "def is_leap(year):\n",
    "    # leap = False\n",
    "    if year % 4==0 and (year % 100!=0 or year % 400==0):\n",
    "        # leap = True\n",
    "        print(\"윤년입니다\")\n",
    "    else:\n",
    "        print(\"평년입니다\")\n",
    "    # return leap\n",
    "\n",
    "year = int(input(\"year?? \"))\n",
    "is_leap(year)"
   ]
  },
  {
   "cell_type": "code",
   "execution_count": 34,
   "metadata": {
    "collapsed": false
   },
   "outputs": [
    {
     "name": "stdout",
     "output_type": "stream",
     "text": [
      "How many times do you want to curse the beast? 10\n",
      "Fusion!!! (9 times left)\n",
      "Fusion!!! (8 times left)\n",
      "Fusion!!! (7 times left)\n",
      "Fusion!!! (6 times left)\n",
      "Fusion!!! (5 times left)\n",
      "Fusion!!! (4 times left)\n",
      "Fusion!!! (3 times left)\n",
      "Fusion!!! (2 times left)\n",
      "Fusion!!! (1 times left)\n",
      "Fusion!!! (0 times left)\n",
      "Curse complete!\n"
     ]
    }
   ],
   "source": [
    "def recurse_beast(a):\n",
    "    if a == 0:\n",
    "        print(\"Curse complete!\")\n",
    "    else:\n",
    "        print(\"Fusion!!! (%d times left)\" % (a-1))\n",
    "        recurse_beast(a-1)\n",
    "\n",
    "times = int(input(\"How many times do you want to curse the beast? \")) \n",
    "recurse_beast(times)"
   ]
  },
  {
   "cell_type": "code",
   "execution_count": 35,
   "metadata": {
    "collapsed": true
   },
   "outputs": [],
   "source": [
    "f = open('NewFile.txt', 'w')\n",
    "f.close()"
   ]
  },
  {
   "cell_type": "code",
   "execution_count": 36,
   "metadata": {
    "collapsed": true
   },
   "outputs": [],
   "source": [
    "f = open('NewFile.txt', 'a')\n",
    "for i in range(1,11):\n",
    "    text = \"Hello Fastcampus for %2d times. \\n\" % i\n",
    "    f.write(text)\n",
    "f.close()"
   ]
  },
  {
   "cell_type": "code",
   "execution_count": 37,
   "metadata": {
    "collapsed": false
   },
   "outputs": [
    {
     "name": "stdout",
     "output_type": "stream",
     "text": [
      "Hello Fastcampus for  1 times. \n",
      "\n"
     ]
    }
   ],
   "source": [
    "f = open('NewFile.txt', 'r')\n",
    "text = f.readline()\n",
    "print(text)\n",
    "f.close()"
   ]
  },
  {
   "cell_type": "code",
   "execution_count": 40,
   "metadata": {
    "collapsed": false
   },
   "outputs": [],
   "source": [
    "f= open('NewFile.txt', 'r')\n",
    "while True:\n",
    "    text = f.readline()\n",
    "    if not text:\n",
    "        break\n",
    "    print(text)\n",
    "f.close()"
   ]
  },
  {
   "cell_type": "code",
   "execution_count": 41,
   "metadata": {
    "collapsed": false
   },
   "outputs": [
    {
     "name": "stdout",
     "output_type": "stream",
     "text": [
      "Hello Fastcampus for  1 times. \n",
      "\n",
      "Hello Fastcampus for  2 times. \n",
      "\n",
      "Hello Fastcampus for  3 times. \n",
      "\n",
      "Hello Fastcampus for  4 times. \n",
      "\n",
      "Hello Fastcampus for  5 times. \n",
      "\n",
      "Hello Fastcampus for  6 times. \n",
      "\n",
      "Hello Fastcampus for  7 times. \n",
      "\n",
      "Hello Fastcampus for  8 times. \n",
      "\n",
      "Hello Fastcampus for  9 times. \n",
      "\n",
      "Hello Fastcampus for 10 times. \n",
      "\n"
     ]
    }
   ],
   "source": [
    "f = open('NewFile.txt', 'r')\n",
    "texts = f.readlines()\n",
    "for text in texts:\n",
    "    print(text)\n",
    "f.close()"
   ]
  },
  {
   "cell_type": "code",
   "execution_count": 42,
   "metadata": {
    "collapsed": true
   },
   "outputs": [],
   "source": [
    "f = open('NewFile.txt', 'a')\n",
    "for i in range(11,20+1):\n",
    "    text = \"Alo Fastcampus for %2d times. \\n\" % i\n",
    "    f.write(text)\n",
    "f.close()"
   ]
  },
  {
   "cell_type": "code",
   "execution_count": null,
   "metadata": {
    "collapsed": true
   },
   "outputs": [],
   "source": [
    "with open('NewFile.txt', 'r') as f:\n",
    "    f.readline()"
   ]
  },
  {
   "cell_type": "code",
   "execution_count": 49,
   "metadata": {
    "collapsed": false
   },
   "outputs": [
    {
     "name": "stdout",
     "output_type": "stream",
     "text": [
      "Type the number: \"패스트캠퍼스\"\n",
      "I said type the NUMBER!!!!!!!!\n",
      "invalid literal for int() with base 10: '\"패스트캠퍼스\"'\n"
     ]
    }
   ],
   "source": [
    "try:\n",
    "    some_input = int(input(\"Type the number: \"))\n",
    "except ValueError as e:\n",
    "    print(\"I said type the NUMBER!!!!!!!!\")\n",
    "    print(e)\n",
    "except FileNotFoundError as g:\n",
    "    pass\n",
    "except SyntaxError as h:\n",
    "    pass\n",
    "else:\n",
    "    print(some_input)"
   ]
  },
  {
   "cell_type": "code",
   "execution_count": null,
   "metadata": {
    "collapsed": true
   },
   "outputs": [],
   "source": [
    "try:\n",
    "    f = open('error.txt', 'r')\n",
    "except FileNotFoundError as e:\n",
    "    print(e)\n",
    "else:\n",
    "    text = f.read()\n",
    "    f.close()"
   ]
  },
  {
   "cell_type": "code",
   "execution_count": 47,
   "metadata": {
    "collapsed": false
   },
   "outputs": [
    {
     "ename": "FileNotFoundError",
     "evalue": "[Errno 2] No such file or directory: 'error.txt'",
     "output_type": "error",
     "traceback": [
      "\u001b[0;31m---------------------------------------------------------------------------\u001b[0m",
      "\u001b[0;31mFileNotFoundError\u001b[0m                         Traceback (most recent call last)",
      "\u001b[0;32m<ipython-input-47-37626224767a>\u001b[0m in \u001b[0;36m<module>\u001b[0;34m()\u001b[0m\n\u001b[0;32m----> 1\u001b[0;31m \u001b[0mf\u001b[0m \u001b[0;34m=\u001b[0m \u001b[0mopen\u001b[0m\u001b[0;34m(\u001b[0m\u001b[0;34m'error.txt'\u001b[0m\u001b[0;34m,\u001b[0m \u001b[0;34m'r'\u001b[0m\u001b[0;34m)\u001b[0m\u001b[0;34m\u001b[0m\u001b[0m\n\u001b[0m\u001b[1;32m      2\u001b[0m \u001b[0mf\u001b[0m\u001b[0;34m.\u001b[0m\u001b[0mclose\u001b[0m\u001b[0;34m(\u001b[0m\u001b[0;34m)\u001b[0m\u001b[0;34m\u001b[0m\u001b[0m\n",
      "\u001b[0;31mFileNotFoundError\u001b[0m: [Errno 2] No such file or directory: 'error.txt'"
     ]
    }
   ],
   "source": [
    "f = open('error.txt', 'r')\n",
    "f.close()"
   ]
  }
 ],
 "metadata": {
  "kernelspec": {
   "display_name": "Python 3",
   "language": "python",
   "name": "python3"
  },
  "language_info": {
   "codemirror_mode": {
    "name": "ipython",
    "version": 3
   },
   "file_extension": ".py",
   "mimetype": "text/x-python",
   "name": "python",
   "nbconvert_exporter": "python",
   "pygments_lexer": "ipython3",
   "version": "3.6.0"
  }
 },
 "nbformat": 4,
 "nbformat_minor": 2
}
