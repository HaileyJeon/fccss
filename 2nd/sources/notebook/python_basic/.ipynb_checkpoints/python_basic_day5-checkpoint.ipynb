{
 "cells": [
  {
   "cell_type": "code",
   "execution_count": 6,
   "metadata": {
    "collapsed": false,
    "deletable": true,
    "editable": true
   },
   "outputs": [
    {
     "name": "stdout",
     "output_type": "stream",
     "text": [
      "type two number with SPACE: 30 12\n",
      "  30      12 struck\n",
      "  15      24 keep\n",
      "   7      48 keep\n",
      "   3      96 keep\n",
      "   1     192 keep\n",
      "The result is 360\n"
     ]
    }
   ],
   "source": [
    "#Ethiopian Multiplication\n",
    "\n",
    "\n",
    "#Define process\n",
    "def halve(x):\n",
    "    return x // 2\n",
    "\n",
    "def double(x):\n",
    "    return x * 2\n",
    "\n",
    "def even(x):\n",
    "    return not x % 2\n",
    "\n",
    "#user input\n",
    "numberset = str(input(\"type two number with SPACE: \")).split()\n",
    "\n",
    "#main process\n",
    "def ethiopian(first, second):\n",
    "    result = 0\n",
    "    # 첫번째 수가 0이 될때 까지 반복진행\n",
    "    while first >= 1:\n",
    "        # 짝수일때\n",
    "        if even(first):\n",
    "            print(\"%4d %7d struck\" % (first, second))\n",
    "        # 홀수일때\n",
    "        else:\n",
    "            print(\"%4d %7d keep\" % (first, second))\n",
    "            result += second\n",
    "\n",
    "        first = halve(first)\n",
    "        second = double(second)\n",
    "        \n",
    "    print(\"The result is %d\" % result)\n",
    "\n",
    "ethiopian(int(numberset[0]), int(numberset[1]))"
   ]
  },
  {
   "cell_type": "code",
   "execution_count": 2,
   "metadata": {
    "collapsed": false,
    "deletable": true,
    "editable": true
   },
   "outputs": [
    {
     "name": "stdout",
     "output_type": "stream",
     "text": [
      "type two number with SPACE: 12 13\n"
     ]
    }
   ],
   "source": [
    "numberset = str(input(\"type two number with SPACE: \")).split()"
   ]
  },
  {
   "cell_type": "code",
   "execution_count": 3,
   "metadata": {
    "collapsed": false,
    "deletable": true,
    "editable": true
   },
   "outputs": [
    {
     "name": "stdout",
     "output_type": "stream",
     "text": [
      "['12', '13']\n"
     ]
    }
   ],
   "source": [
    "print(numberset)"
   ]
  },
  {
   "cell_type": "code",
   "execution_count": 15,
   "metadata": {
    "collapsed": false,
    "deletable": true,
    "editable": true
   },
   "outputs": [
    {
     "name": "stdout",
     "output_type": "stream",
     "text": [
      "숫자 1을 입력하세요12\n",
      "숫자 2을 입력하세요7\n",
      "84\n"
     ]
    }
   ],
   "source": [
    "# 현주님의 아주 간편한 솔루션\n",
    "# user input\n",
    "num = int(input(\"숫자 1을 입력하세요\"))\n",
    "num2 = int(input(\"숫자 2을 입력하세요\"))\n",
    "\n",
    "# init result\n",
    "result = 0\n",
    "\n",
    "# main process\n",
    "while True:\n",
    "    if num % 2 == 1:\n",
    "        result = result + num2\n",
    "    num = num // 2\n",
    "    num2 = num2 * 2 \n",
    "    \n",
    "    if num == 0:\n",
    "        print(result)\n",
    "        break"
   ]
  },
  {
   "cell_type": "code",
   "execution_count": 19,
   "metadata": {
    "collapsed": false,
    "deletable": true,
    "editable": true
   },
   "outputs": [
    {
     "name": "stdout",
     "output_type": "stream",
     "text": [
      "How many times?? 12\n",
      "fusion!!!!!!(11 times left)\n",
      "fusion!!!!!!(10 times left)\n",
      "fusion!!!!!!(9 times left)\n",
      "fusion!!!!!!(8 times left)\n",
      "fusion!!!!!!(7 times left)\n",
      "fusion!!!!!!(6 times left)\n",
      "fusion!!!!!!(5 times left)\n",
      "fusion!!!!!!(4 times left)\n",
      "fusion!!!!!!(3 times left)\n",
      "fusion!!!!!!(2 times left)\n",
      "fusion!!!!!!(1 times left)\n",
      "fusion!!!!!!(0 times left)\n",
      "curse complete!\n"
     ]
    }
   ],
   "source": [
    "# recursive function\n",
    "times = int(input(\"How many times?? \"))\n",
    "\n",
    "def recurse_beast(a):\n",
    "    if a == 0:\n",
    "        print(\"curse complete!\")\n",
    "    else:\n",
    "        print(\"fusion!!!!!!(%d times left)\" % (a-1))\n",
    "        recurse_beast(a - 1)\n",
    "\n",
    "recurse_beast(times)"
   ]
  },
  {
   "cell_type": "code",
   "execution_count": 21,
   "metadata": {
    "collapsed": false,
    "deletable": true,
    "editable": true
   },
   "outputs": [
    {
     "name": "stdout",
     "output_type": "stream",
     "text": [
      "[2, 4, 6, 8, 10]\n"
     ]
    }
   ],
   "source": [
    "# List comprehension\n",
    "old_list = [1,2,3,4,5,]\n",
    "\n",
    "doubled_list = []\n",
    "for i in old_list:\n",
    "    doubled_list.append(i*2)\n",
    "    \n",
    "print(doubled_list)"
   ]
  },
  {
   "cell_type": "code",
   "execution_count": 22,
   "metadata": {
    "collapsed": false,
    "deletable": true,
    "editable": true
   },
   "outputs": [
    {
     "name": "stdout",
     "output_type": "stream",
     "text": [
      "[2, 4, 6, 8, 10]\n"
     ]
    }
   ],
   "source": [
    "doubled_listcomp = [i*2 for i in old_list]\n",
    "print(doubled_listcomp)"
   ]
  },
  {
   "cell_type": "code",
   "execution_count": 23,
   "metadata": {
    "collapsed": false,
    "deletable": true,
    "editable": true
   },
   "outputs": [
    {
     "name": "stdout",
     "output_type": "stream",
     "text": [
      "[4, 8]\n"
     ]
    }
   ],
   "source": [
    "old_list = [1,2,3,4,5,]\n",
    "\n",
    "doubled_list = []\n",
    "for i in old_list:\n",
    "    if i % 2 == 0:\n",
    "        doubled_list.append(i*2)\n",
    "    \n",
    "print(doubled_list)"
   ]
  },
  {
   "cell_type": "code",
   "execution_count": 24,
   "metadata": {
    "collapsed": false,
    "deletable": true,
    "editable": true
   },
   "outputs": [
    {
     "name": "stdout",
     "output_type": "stream",
     "text": [
      "[4, 8]\n"
     ]
    }
   ],
   "source": [
    "doubled_listcon = [i*2 for i in old_list if i % 2 == 0]\n",
    "print(doubled_listcon)"
   ]
  },
  {
   "cell_type": "code",
   "execution_count": 25,
   "metadata": {
    "collapsed": true,
    "deletable": true,
    "editable": true
   },
   "outputs": [],
   "source": [
    "# File I/O\n",
    "f = open(\"Newfile.txt\", 'w')\n",
    "f.close()"
   ]
  },
  {
   "cell_type": "code",
   "execution_count": 27,
   "metadata": {
    "collapsed": false,
    "deletable": true,
    "editable": true
   },
   "outputs": [],
   "source": [
    "f = open(\"Newfile.txt\", 'a')\n",
    "for i in range(1,11):\n",
    "    text = \"line %d \\n\" % i\n",
    "    f.write(text)\n",
    "f.close()"
   ]
  },
  {
   "cell_type": "code",
   "execution_count": 28,
   "metadata": {
    "collapsed": false,
    "deletable": true,
    "editable": true
   },
   "outputs": [
    {
     "name": "stdout",
     "output_type": "stream",
     "text": [
      "line 1 \n",
      "\n"
     ]
    }
   ],
   "source": [
    "f = open(\"Newfile.txt\", 'r')\n",
    "text = f.readline()\n",
    "print(text)\n",
    "f.close()"
   ]
  },
  {
   "cell_type": "code",
   "execution_count": 29,
   "metadata": {
    "collapsed": false,
    "deletable": true,
    "editable": true
   },
   "outputs": [
    {
     "name": "stdout",
     "output_type": "stream",
     "text": [
      "line 1 \n",
      "\n",
      "line 2 \n",
      "\n",
      "line 3 \n",
      "\n",
      "line 4 \n",
      "\n",
      "line 5 \n",
      "\n",
      "line 6 \n",
      "\n",
      "line 7 \n",
      "\n",
      "line 8 \n",
      "\n",
      "line 9 \n",
      "\n",
      "line 10 \n",
      "\n"
     ]
    }
   ],
   "source": [
    "f = open(\"Newfile.txt\", 'r')\n",
    "while True:\n",
    "    text = f.readline()\n",
    "    if not text:\n",
    "        break\n",
    "    print(text)\n",
    "f.close()"
   ]
  },
  {
   "cell_type": "code",
   "execution_count": 33,
   "metadata": {
    "collapsed": false,
    "deletable": true,
    "editable": true
   },
   "outputs": [
    {
     "name": "stdout",
     "output_type": "stream",
     "text": [
      "line 1 \n",
      "\n",
      "line 2 \n",
      "\n",
      "line 3 \n",
      "\n",
      "line 4 \n",
      "\n",
      "line 5 \n",
      "\n",
      "line 6 \n",
      "\n",
      "line 7 \n",
      "\n",
      "line 8 \n",
      "\n",
      "line 9 \n",
      "\n",
      "line 10 \n",
      "\n"
     ]
    }
   ],
   "source": [
    "f = open(\"Newfile.txt\", 'r')\n",
    "texts = f.readlines()\n",
    "\n",
    "for text in texts:\n",
    "    print(text)\n",
    "f.close()"
   ]
  },
  {
   "cell_type": "code",
   "execution_count": 35,
   "metadata": {
    "collapsed": true,
    "deletable": true,
    "editable": true
   },
   "outputs": [],
   "source": [
    "f= open(\"Newfile.txt\", 'a')\n",
    "for i in range(11, 21):\n",
    "    text = \"New line %d \\n\" % i\n",
    "    f.write(text)\n",
    "\n",
    "f.close()"
   ]
  },
  {
   "cell_type": "code",
   "execution_count": 36,
   "metadata": {
    "collapsed": true,
    "deletable": true,
    "editable": true
   },
   "outputs": [],
   "source": [
    "with open(\"foo.txt\", 'w') as f:\n",
    "    f.write(\"foo is text dummy\")"
   ]
  },
  {
   "cell_type": "code",
   "execution_count": 41,
   "metadata": {
    "collapsed": false,
    "deletable": true,
    "editable": true
   },
   "outputs": [
    {
     "name": "stdout",
     "output_type": "stream",
     "text": [
      "Type the number: asdf\n",
      "Are you idi*t?????????? type the NUMBER!!!\n",
      "invalid literal for int() with base 10: 'asdf'\n"
     ]
    }
   ],
   "source": [
    "# Error Handling with try, except\n",
    "try:\n",
    "    some_input = int(input(\"Type the number: \"))\n",
    "except ValueError as e:\n",
    "    print(\"Are you idi*t?????????? type the NUMBER!!!\")\n",
    "    print(e)"
   ]
  },
  {
   "cell_type": "code",
   "execution_count": 40,
   "metadata": {
    "collapsed": false,
    "deletable": true,
    "editable": true
   },
   "outputs": [
    {
     "ename": "ValueError",
     "evalue": "invalid literal for int() with base 10: 'a'",
     "output_type": "error",
     "traceback": [
      "\u001b[0;31m---------------------------------------------------------------------------\u001b[0m",
      "\u001b[0;31mValueError\u001b[0m                                Traceback (most recent call last)",
      "\u001b[0;32m<ipython-input-40-91097a4105a2>\u001b[0m in \u001b[0;36m<module>\u001b[0;34m()\u001b[0m\n\u001b[0;32m----> 1\u001b[0;31m \u001b[0mint\u001b[0m\u001b[0;34m(\u001b[0m\u001b[0;34m\"a\"\u001b[0m\u001b[0;34m)\u001b[0m\u001b[0;34m\u001b[0m\u001b[0m\n\u001b[0m",
      "\u001b[0;31mValueError\u001b[0m: invalid literal for int() with base 10: 'a'"
     ]
    }
   ],
   "source": [
    "int(\"a\")"
   ]
  },
  {
   "cell_type": "code",
   "execution_count": 43,
   "metadata": {
    "collapsed": false,
    "deletable": true,
    "editable": true
   },
   "outputs": [],
   "source": [
    "f = open(\"example_r.txt\", 'w')\n",
    "f.close()\n",
    "\n",
    "try:\n",
    "    f = open(\"example_r.txt\", 'r')\n",
    "except FileNotFoundError as e:\n",
    "    print(e)\n",
    "else:\n",
    "    text = f.read()\n",
    "    f.close"
   ]
  },
  {
   "cell_type": "code",
   "execution_count": 44,
   "metadata": {
    "collapsed": false,
    "deletable": true,
    "editable": true
   },
   "outputs": [
    {
     "name": "stdout",
     "output_type": "stream",
     "text": [
      "hoho\n"
     ]
    }
   ],
   "source": [
    "try:\n",
    "    f = open(\"ganadara.txt\", 'r')\n",
    "except FileNotFoundError as e:\n",
    "    pass\n",
    "except ValuError:\n",
    "    pass\n",
    "except NameError:\n",
    "    pass\n",
    "else:\n",
    "    print(\"haha\")\n",
    "    f.close()\n",
    "print(\"hoho\")"
   ]
  },
  {
   "cell_type": "code",
   "execution_count": null,
   "metadata": {
    "collapsed": true,
    "deletable": true,
    "editable": true
   },
   "outputs": [],
   "source": []
  }
 ],
 "metadata": {
  "kernelspec": {
   "display_name": "Python 3",
   "language": "python",
   "name": "python3"
  },
  "language_info": {
   "codemirror_mode": {
    "name": "ipython",
    "version": 3
   },
   "file_extension": ".py",
   "mimetype": "text/x-python",
   "name": "python",
   "nbconvert_exporter": "python",
   "pygments_lexer": "ipython3",
   "version": "3.6.0"
  }
 },
 "nbformat": 4,
 "nbformat_minor": 2
}
