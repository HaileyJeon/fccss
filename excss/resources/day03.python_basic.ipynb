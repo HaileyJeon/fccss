{
 "cells": [
  {
   "cell_type": "markdown",
   "metadata": {},
   "source": [
    "## Function"
   ]
  },
  {
   "cell_type": "code",
   "execution_count": 1,
   "metadata": {
    "collapsed": false
   },
   "outputs": [
    {
     "data": {
      "text/plain": [
       "2"
      ]
     },
     "execution_count": 1,
     "metadata": {},
     "output_type": "execute_result"
    }
   ],
   "source": [
    "1 + 1"
   ]
  },
  {
   "cell_type": "code",
   "execution_count": 4,
   "metadata": {
    "collapsed": true
   },
   "outputs": [],
   "source": [
    "def summation(a,b):\n",
    "    result = a + b\n",
    "    return result\n",
    "\n",
    "# multiply 라는 곱셈 연산을 하는 함수를 작성하세요\n",
    "def multiply(a,b):\n",
    "    result = a * b\n",
    "    return result"
   ]
  },
  {
   "cell_type": "code",
   "execution_count": 3,
   "metadata": {
    "collapsed": false
   },
   "outputs": [
    {
     "data": {
      "text/plain": [
       "5"
      ]
     },
     "execution_count": 3,
     "metadata": {},
     "output_type": "execute_result"
    }
   ],
   "source": [
    "summation(2,3)"
   ]
  },
  {
   "cell_type": "code",
   "execution_count": 5,
   "metadata": {
    "collapsed": false
   },
   "outputs": [
    {
     "data": {
      "text/plain": [
       "14"
      ]
     },
     "execution_count": 5,
     "metadata": {},
     "output_type": "execute_result"
    }
   ],
   "source": [
    "multiply(2,7)"
   ]
  },
  {
   "cell_type": "code",
   "execution_count": 6,
   "metadata": {
    "collapsed": true
   },
   "outputs": [],
   "source": [
    "# parameter(입력)이 없는 함수 1\n",
    "def print_hello():\n",
    "    return \"Hello python!\""
   ]
  },
  {
   "cell_type": "code",
   "execution_count": 7,
   "metadata": {
    "collapsed": false
   },
   "outputs": [
    {
     "data": {
      "text/plain": [
       "'Hello python!'"
      ]
     },
     "execution_count": 7,
     "metadata": {},
     "output_type": "execute_result"
    }
   ],
   "source": [
    "print_hello()"
   ]
  },
  {
   "cell_type": "code",
   "execution_count": 8,
   "metadata": {
    "collapsed": true
   },
   "outputs": [],
   "source": [
    "# parameter(입력)이 없는 함수 2\n",
    "def print_hello_2():\n",
    "    hello = \"Hello python again!\"\n",
    "    return hello"
   ]
  },
  {
   "cell_type": "code",
   "execution_count": 9,
   "metadata": {
    "collapsed": false
   },
   "outputs": [
    {
     "data": {
      "text/plain": [
       "'Hello python again!'"
      ]
     },
     "execution_count": 9,
     "metadata": {},
     "output_type": "execute_result"
    }
   ],
   "source": [
    "print_hello_2()"
   ]
  },
  {
   "cell_type": "code",
   "execution_count": 10,
   "metadata": {
    "collapsed": true
   },
   "outputs": [],
   "source": [
    "# return(출력)이 없는 함수\n",
    "def func_wo_return(a):\n",
    "    print(\"This is function {} return!!\".format(a))"
   ]
  },
  {
   "cell_type": "code",
   "execution_count": 11,
   "metadata": {
    "collapsed": false
   },
   "outputs": [
    {
     "name": "stdout",
     "output_type": "stream",
     "text": [
      "This is function with return!!\n"
     ]
    }
   ],
   "source": [
    "func_wo_return(\"with\")"
   ]
  },
  {
   "cell_type": "code",
   "execution_count": 12,
   "metadata": {
    "collapsed": false
   },
   "outputs": [
    {
     "data": {
      "text/plain": [
       "'Hello python!'"
      ]
     },
     "execution_count": 12,
     "metadata": {},
     "output_type": "execute_result"
    }
   ],
   "source": [
    "# 출력이 존재한다면 그 결과값이 변수에 선언됩니다\n",
    "some_string = print_hello()\n",
    "some_string"
   ]
  },
  {
   "cell_type": "code",
   "execution_count": 14,
   "metadata": {
    "collapsed": false
   },
   "outputs": [
    {
     "name": "stdout",
     "output_type": "stream",
     "text": [
      "This is function without return!!\n"
     ]
    }
   ],
   "source": [
    "another_string = func_wo_return(\"without\")"
   ]
  },
  {
   "cell_type": "code",
   "execution_count": 15,
   "metadata": {
    "collapsed": true
   },
   "outputs": [],
   "source": [
    "# 출력이 존재하지 않아 변수에 아무런 값도 존재하지 않습니다\n",
    "another_string"
   ]
  },
  {
   "cell_type": "code",
   "execution_count": 16,
   "metadata": {
    "collapsed": true
   },
   "outputs": [],
   "source": [
    "# 출력이 존재하지 않는 예제\n",
    "some_list = [2,4,1]\n",
    "sorted_list = some_list.sort()"
   ]
  },
  {
   "cell_type": "code",
   "execution_count": 18,
   "metadata": {
    "collapsed": false
   },
   "outputs": [
    {
     "data": {
      "text/plain": [
       "[1, 2, 4]"
      ]
     },
     "execution_count": 18,
     "metadata": {},
     "output_type": "execute_result"
    }
   ],
   "source": [
    "some_list"
   ]
  },
  {
   "cell_type": "code",
   "execution_count": 24,
   "metadata": {
    "collapsed": false
   },
   "outputs": [],
   "source": [
    "# 여러 값을 동시에 출력하는 함수\n",
    "def multiple_return(a):\n",
    "    b = a + 1024\n",
    "    return a, b"
   ]
  },
  {
   "cell_type": "code",
   "execution_count": 33,
   "metadata": {
    "collapsed": false
   },
   "outputs": [
    {
     "data": {
      "text/plain": [
       "(-24, 1000)"
      ]
     },
     "execution_count": 33,
     "metadata": {},
     "output_type": "execute_result"
    }
   ],
   "source": [
    "multiple_return(-24)"
   ]
  },
  {
   "cell_type": "code",
   "execution_count": 35,
   "metadata": {
    "collapsed": false
   },
   "outputs": [
    {
     "name": "stdout",
     "output_type": "stream",
     "text": [
      "1024\n"
     ]
    }
   ],
   "source": [
    "x, y = multiple_return(-20)\n",
    "print(y-x)"
   ]
  },
  {
   "cell_type": "code",
   "execution_count": 39,
   "metadata": {
    "collapsed": false
   },
   "outputs": [
    {
     "name": "stdout",
     "output_type": "stream",
     "text": [
      "Enter username?fastcampus\n",
      "valid username: fastcampus\n",
      "anything else?\n"
     ]
    }
   ],
   "source": [
    "def id_check(username):\n",
    "    if username == \"admin\":\n",
    "        return \"invalid username: {}\".format(username)\n",
    "    else:\n",
    "        print(\"valid username: {}\".format(username))\n",
    "    print(\"anything else?\")\n",
    "\n",
    "username = input(\"Enter username?\")\n",
    "id_check(username)"
   ]
  },
  {
   "cell_type": "code",
   "execution_count": 61,
   "metadata": {
    "collapsed": false
   },
   "outputs": [
    {
     "data": {
      "text/plain": [
       "'Hi, 10seong-su. And you are not fool. And en'"
      ]
     },
     "execution_count": 61,
     "metadata": {},
     "output_type": "execute_result"
    }
   ],
   "source": [
    "def say_hello(a,name=\"Fool\",lang=\"ko\"):\n",
    "    if name == \"Fool\":\n",
    "        return \"Oh, You are {}{}. And {}\".format(a, name, lang)\n",
    "    else:\n",
    "        return \"Hi, {}{}. And you are not fool. And {}\".format(a, name, lang)\n",
    "\n",
    "say_hello(10, \"seong-su\", \"en\")"
   ]
  },
  {
   "cell_type": "code",
   "execution_count": 71,
   "metadata": {
    "collapsed": true
   },
   "outputs": [],
   "source": [
    "# arguments: 얼마인지 알 수 없는 여러개의 입력값을 받고 싶을 때\n",
    "# arguments는 항상 마지막에 위치해야 합니다.\n",
    "# ex) multiple_sum(a, *args):\n",
    "def multiple_sum(*args):\n",
    "    sum_ = 0\n",
    "    for i in args:\n",
    "        sum_ += i\n",
    "    return sum_"
   ]
  },
  {
   "cell_type": "code",
   "execution_count": 72,
   "metadata": {
    "collapsed": false
   },
   "outputs": [
    {
     "data": {
      "text/plain": [
       "55"
      ]
     },
     "execution_count": 72,
     "metadata": {},
     "output_type": "execute_result"
    }
   ],
   "source": [
    "multiple_sum(1,2,3,4,5,6,7,8,9,10)"
   ]
  },
  {
   "cell_type": "code",
   "execution_count": 73,
   "metadata": {
    "collapsed": true
   },
   "outputs": [],
   "source": [
    "def multiple_multiply(*dogs):\n",
    "    result = 1\n",
    "    for i in dogs:\n",
    "        result = result * i # result *= i\n",
    "    return result"
   ]
  },
  {
   "cell_type": "code",
   "execution_count": 74,
   "metadata": {
    "collapsed": false
   },
   "outputs": [
    {
     "data": {
      "text/plain": [
       "120"
      ]
     },
     "execution_count": 74,
     "metadata": {},
     "output_type": "execute_result"
    }
   ],
   "source": [
    "multiple_multiply(1,2,3,4,5)"
   ]
  },
  {
   "cell_type": "code",
   "execution_count": 87,
   "metadata": {
    "collapsed": true
   },
   "outputs": [],
   "source": [
    "def show_kwargs(**kwargs):\n",
    "    print(kwargs.keys())\n",
    "    print(kwargs.values())\n",
    "    print(kwargs.items())\n",
    "    return str(kwargs)"
   ]
  },
  {
   "cell_type": "code",
   "execution_count": 88,
   "metadata": {
    "collapsed": false
   },
   "outputs": [
    {
     "name": "stdout",
     "output_type": "stream",
     "text": [
      "dict_keys(['a', 'b'])\n",
      "dict_values([10, True])\n",
      "dict_items([('a', 10), ('b', True)])\n"
     ]
    },
    {
     "data": {
      "text/plain": [
       "\"{'a': 10, 'b': True}\""
      ]
     },
     "execution_count": 88,
     "metadata": {},
     "output_type": "execute_result"
    }
   ],
   "source": [
    "show_kwargs(a=10, b=True)"
   ]
  },
  {
   "cell_type": "code",
   "execution_count": 95,
   "metadata": {
    "collapsed": false
   },
   "outputs": [
    {
     "data": {
      "text/plain": [
       "'https://search.naver.com:443/search.naver?where=nexsearch&ie=utf-8&query=성수역'"
      ]
     },
     "execution_count": 95,
     "metadata": {},
     "output_type": "execute_result"
    }
   ],
   "source": [
    "def kwargs_url(server, port, **query):\n",
    "    url = \"https://\" + server + \":\" + port + \"/search.naver?\"\n",
    "    \n",
    "    for key in query.keys():\n",
    "        url = url + key + \"=\" + query[key] + \"&\"\n",
    "        \n",
    "    return url[:-1]\n",
    "kwargs_url(\"search.naver.com\",\"443\",where=\"nexsearch\",ie=\"utf-8\",query=\"성수역\")"
   ]
  },
  {
   "cell_type": "code",
   "execution_count": 98,
   "metadata": {
    "collapsed": false
   },
   "outputs": [
    {
     "name": "stdout",
     "output_type": "stream",
     "text": [
      "hello\n"
     ]
    }
   ],
   "source": [
    "a = \"hello\"\n",
    "x = 12\n",
    "def complete_hello(x):\n",
    "    a = 1\n",
    "    x += \" world\"\n",
    "    return x\n",
    "\n",
    "complete_hello(a)\n",
    "print(a)"
   ]
  },
  {
   "cell_type": "code",
   "execution_count": 100,
   "metadata": {
    "collapsed": false
   },
   "outputs": [
    {
     "name": "stdout",
     "output_type": "stream",
     "text": [
      "hello\n",
      "helloworld\n"
     ]
    }
   ],
   "source": [
    "a = \"hello\"\n",
    "print(a)\n",
    "def glob_test(x):\n",
    "    x += \"world\"\n",
    "    return x\n",
    "\n",
    "a = glob_test(a)\n",
    "print(a)"
   ]
  },
  {
   "cell_type": "code",
   "execution_count": 104,
   "metadata": {
    "collapsed": false
   },
   "outputs": [
    {
     "name": "stdout",
     "output_type": "stream",
     "text": [
      "hello\n"
     ]
    },
    {
     "ename": "NameError",
     "evalue": "name 'c' is not defined",
     "output_type": "error",
     "traceback": [
      "\u001b[0;31m---------------------------------------------------------------------------\u001b[0m",
      "\u001b[0;31mNameError\u001b[0m                                 Traceback (most recent call last)",
      "\u001b[0;32m<ipython-input-104-469faa80d34f>\u001b[0m in \u001b[0;36m<module>\u001b[0;34m()\u001b[0m\n\u001b[1;32m      6\u001b[0m     \u001b[0mc\u001b[0m \u001b[0;34m+=\u001b[0m \u001b[0;34m\"python\"\u001b[0m\u001b[0;34m\u001b[0m\u001b[0m\n\u001b[1;32m      7\u001b[0m \u001b[0;34m\u001b[0m\u001b[0m\n\u001b[0;32m----> 8\u001b[0;31m \u001b[0mawful_glob\u001b[0m\u001b[0;34m(\u001b[0m\u001b[0;34m)\u001b[0m\u001b[0;34m\u001b[0m\u001b[0m\n\u001b[0m\u001b[1;32m      9\u001b[0m \u001b[0mprint\u001b[0m\u001b[0;34m(\u001b[0m\u001b[0mb\u001b[0m\u001b[0;34m)\u001b[0m\u001b[0;34m\u001b[0m\u001b[0m\n",
      "\u001b[0;32m<ipython-input-104-469faa80d34f>\u001b[0m in \u001b[0;36mawful_glob\u001b[0;34m()\u001b[0m\n\u001b[1;32m      4\u001b[0m \u001b[0;32mdef\u001b[0m \u001b[0mawful_glob\u001b[0m\u001b[0;34m(\u001b[0m\u001b[0;34m)\u001b[0m\u001b[0;34m:\u001b[0m\u001b[0;34m\u001b[0m\u001b[0m\n\u001b[1;32m      5\u001b[0m     \u001b[0;32mglobal\u001b[0m \u001b[0mc\u001b[0m\u001b[0;34m\u001b[0m\u001b[0m\n\u001b[0;32m----> 6\u001b[0;31m     \u001b[0mc\u001b[0m \u001b[0;34m+=\u001b[0m \u001b[0;34m\"python\"\u001b[0m\u001b[0;34m\u001b[0m\u001b[0m\n\u001b[0m\u001b[1;32m      7\u001b[0m \u001b[0;34m\u001b[0m\u001b[0m\n\u001b[1;32m      8\u001b[0m \u001b[0mawful_glob\u001b[0m\u001b[0;34m(\u001b[0m\u001b[0;34m)\u001b[0m\u001b[0;34m\u001b[0m\u001b[0m\n",
      "\u001b[0;31mNameError\u001b[0m: name 'c' is not defined"
     ]
    }
   ],
   "source": [
    "b = \"hello\"\n",
    "print(b)\n",
    "\n",
    "# 외부 의존적인 함수는 나빠요.\n",
    "def awful_glob():\n",
    "    global c\n",
    "    c += \"python\"\n",
    "    \n",
    "awful_glob()\n",
    "print(b)"
   ]
  },
  {
   "cell_type": "code",
   "execution_count": 110,
   "metadata": {
    "collapsed": false
   },
   "outputs": [
    {
     "name": "stdout",
     "output_type": "stream",
     "text": [
      "Type the year: 2101\n"
     ]
    },
    {
     "data": {
      "text/plain": [
       "'평년입니다'"
      ]
     },
     "execution_count": 110,
     "metadata": {},
     "output_type": "execute_result"
    }
   ],
   "source": [
    "# 4의 배수 -> 윤년\n",
    "# 100의 배수 -> 평년\n",
    "#       +         ==>  and or\n",
    "# 400의 배수 -> 윤년\n",
    "\n",
    "# Way 1: Fizzbuzz처럼 풀기\n",
    "def is_leap(x):\n",
    "    if x % 400 == 0:\n",
    "        return \"윤년입니다\"\n",
    "    elif x % 100 == 0:\n",
    "        return \"평년입니다\"\n",
    "    elif x % 4 == 0:\n",
    "        return \"윤년입니다\"\n",
    "    else:\n",
    "        return \"평년입니다\"\n",
    "\n",
    "year = int(input(\"Type the year: \"))\n",
    "is_leap(year)\n",
    "# True or False, \"윤년입니다\" or \"평년입니다\""
   ]
  },
  {
   "cell_type": "code",
   "execution_count": 118,
   "metadata": {
    "collapsed": false
   },
   "outputs": [
    {
     "name": "stdout",
     "output_type": "stream",
     "text": [
      "Is leap? 2400\n"
     ]
    },
    {
     "data": {
      "text/plain": [
       "'윤년'"
      ]
     },
     "execution_count": 118,
     "metadata": {},
     "output_type": "execute_result"
    }
   ],
   "source": [
    "# 4의 배수 -> 윤년\n",
    "# 100의 배수 -> 평년 \n",
    "#       +         ==>  and or\n",
    "# 400의 배수 -> 윤년\n",
    "\n",
    "# 4의 배수 , 100의 배수(x), 400의 배수 => 윤년\n",
    "# 나머지 => 평년\n",
    "\n",
    "# 2000 => 4, 100, 400\n",
    "# 2001 => x\n",
    "# 2004 => 4\n",
    "# 2100 => 4, 100\n",
    "# 2400 => 4, 100, 400\n",
    "\n",
    "def is_leap2(year):\n",
    "    if year % 4 == 0 and (year % 100 != 0 or year % 400 == 0):\n",
    "        return \"윤년\"\n",
    "    else:\n",
    "        return \"평년\"\n",
    "    \n",
    "year = int(input(\"Is leap? \"))\n",
    "is_leap2(year)"
   ]
  },
  {
   "cell_type": "code",
   "execution_count": 119,
   "metadata": {
    "collapsed": false
   },
   "outputs": [
    {
     "data": {
      "text/plain": [
       "'평년'"
      ]
     },
     "execution_count": 119,
     "metadata": {},
     "output_type": "execute_result"
    }
   ],
   "source": [
    "is_leap2(2100)"
   ]
  },
  {
   "cell_type": "code",
   "execution_count": 120,
   "metadata": {
    "collapsed": false
   },
   "outputs": [
    {
     "data": {
      "text/plain": [
       "'윤년'"
      ]
     },
     "execution_count": 120,
     "metadata": {},
     "output_type": "execute_result"
    }
   ],
   "source": [
    "is_leap2(2004)"
   ]
  },
  {
   "cell_type": "code",
   "execution_count": 124,
   "metadata": {
    "collapsed": false
   },
   "outputs": [
    {
     "name": "stdout",
     "output_type": "stream",
     "text": [
      "13\n",
      "Guess the number(1 to 100) >> 11\n",
      "Up\n",
      "4 times left\n",
      "Guess the number(1 to 100) >> 11\n",
      "Up\n",
      "3 times left\n",
      "Guess the number(1 to 100) >> 11\n",
      "Up\n",
      "2 times left\n",
      "Guess the number(1 to 100) >> 11\n",
      "Up\n",
      "1 times left\n",
      "Guess the number(1 to 100) >> 11\n",
      "Up\n",
      "Failed!!!\n"
     ]
    }
   ],
   "source": [
    "import random\n",
    "\n",
    "# 1에서 100 사이의 임의의 정수 추출\n",
    "answer = random.randint(1,100)\n",
    "print(answer) #디버깅을 위한 정답 출력\n",
    "\n",
    "trial = 5\n",
    "\n",
    "def guesser(guess):\n",
    "    global trial\n",
    "    if guess == answer:\n",
    "        print(\"Correct!!\")\n",
    "        trial = 0\n",
    "    # answer와 guess가 일치하지 않을때 ==> \"Wrong!!\"\n",
    "    else:\n",
    "        # Up & Down 구현\n",
    "        # print(\"Wrong!!\")\n",
    "        if guess > answer:\n",
    "            print(\"Down\")\n",
    "        else:\n",
    "            print(\"Up\")\n",
    "            trial -= 1\n",
    "        # Limit trial\n",
    "        if trial == 0:\n",
    "            print(\"Failed!!!\")\n",
    "        else:\n",
    "            print(\"{} times left\".format(trial))\n",
    "        \n",
    "while trial > 0:\n",
    "    guess = int(input(\"Guess the number(1 to 100) >> \")) # 사용자 입력\n",
    "    # answer와 guess가 일치할때 ==> \"Correct!!\"\n",
    "    \n",
    "    guesser(guess)"
   ]
  },
  {
   "cell_type": "code",
   "execution_count": 125,
   "metadata": {
    "collapsed": false
   },
   "outputs": [
    {
     "name": "stdout",
     "output_type": "stream",
     "text": [
      "hello world\n",
      "hello world\n",
      "hello world\n",
      "hello world\n",
      "hello world\n"
     ]
    }
   ],
   "source": [
    "for i in range(1,5+1):\n",
    "    print(\"hello world\")"
   ]
  },
  {
   "cell_type": "code",
   "execution_count": 131,
   "metadata": {
    "collapsed": true
   },
   "outputs": [],
   "source": [
    "def print_hello(trial):\n",
    "    if trial == 0:\n",
    "        return\n",
    "    print(\"hello world\")\n",
    "    return print_hello(trial - 1)"
   ]
  },
  {
   "cell_type": "code",
   "execution_count": 132,
   "metadata": {
    "collapsed": false
   },
   "outputs": [
    {
     "name": "stdout",
     "output_type": "stream",
     "text": [
      "hello world\n",
      "hello world\n",
      "hello world\n",
      "hello world\n",
      "hello world\n"
     ]
    }
   ],
   "source": [
    "print_hello(5)"
   ]
  },
  {
   "cell_type": "code",
   "execution_count": 134,
   "metadata": {
    "collapsed": true
   },
   "outputs": [],
   "source": [
    "def recurse_beast(trial):\n",
    "    if trial == 0:\n",
    "        return \"curse complete!\"\n",
    "    else:\n",
    "        print(\"Fusion!({}times left)\".format(trial-1))\n",
    "        return recurse_beast(trial-1)"
   ]
  },
  {
   "cell_type": "code",
   "execution_count": 135,
   "metadata": {
    "collapsed": false
   },
   "outputs": [
    {
     "name": "stdout",
     "output_type": "stream",
     "text": [
      "How many times do you want? 3\n",
      "Fusion!(2times left)\n",
      "Fusion!(1times left)\n",
      "Fusion!(0times left)\n"
     ]
    },
    {
     "data": {
      "text/plain": [
       "'curse complete!'"
      ]
     },
     "execution_count": 135,
     "metadata": {},
     "output_type": "execute_result"
    }
   ],
   "source": [
    "trial = int(input(\"How many times do you want? \"))\n",
    "recurse_beast(trial)"
   ]
  },
  {
   "cell_type": "markdown",
   "metadata": {},
   "source": [
    "## List Comprehension"
   ]
  },
  {
   "cell_type": "code",
   "execution_count": 136,
   "metadata": {
    "collapsed": true
   },
   "outputs": [],
   "source": [
    "old_list = [1,2,3,4,5]\n",
    "\n",
    "doubled_list = []\n",
    "\n",
    "for i in old_list:\n",
    "    doubled_list.append(i*2)"
   ]
  },
  {
   "cell_type": "code",
   "execution_count": 137,
   "metadata": {
    "collapsed": false
   },
   "outputs": [
    {
     "data": {
      "text/plain": [
       "[2, 4, 6, 8, 10]"
      ]
     },
     "execution_count": 137,
     "metadata": {},
     "output_type": "execute_result"
    }
   ],
   "source": [
    "doubled_list"
   ]
  },
  {
   "cell_type": "code",
   "execution_count": 139,
   "metadata": {
    "collapsed": false
   },
   "outputs": [
    {
     "data": {
      "text/plain": [
       "[2, 4, 6, 8, 10]"
      ]
     },
     "execution_count": 139,
     "metadata": {},
     "output_type": "execute_result"
    }
   ],
   "source": [
    "doubled_list = [i*2 for i in old_list]\n",
    "doubled_list"
   ]
  },
  {
   "cell_type": "code",
   "execution_count": 140,
   "metadata": {
    "collapsed": false
   },
   "outputs": [
    {
     "data": {
      "text/plain": [
       "[3, 6, 9, 12, 15]"
      ]
     },
     "execution_count": 140,
     "metadata": {},
     "output_type": "execute_result"
    }
   ],
   "source": [
    "tripled_list = [i*3 for i in old_list]\n",
    "tripled_list"
   ]
  },
  {
   "cell_type": "code",
   "execution_count": 141,
   "metadata": {
    "collapsed": false
   },
   "outputs": [
    {
     "data": {
      "text/plain": [
       "[4, 8]"
      ]
     },
     "execution_count": 141,
     "metadata": {},
     "output_type": "execute_result"
    }
   ],
   "source": [
    "new_doubled_list = []\n",
    "\n",
    "for i in old_list:\n",
    "    if i % 2 == 0:\n",
    "        new_doubled_list.append(i*2)\n",
    "        \n",
    "new_doubled_list"
   ]
  },
  {
   "cell_type": "code",
   "execution_count": 142,
   "metadata": {
    "collapsed": false
   },
   "outputs": [
    {
     "data": {
      "text/plain": [
       "[4, 8]"
      ]
     },
     "execution_count": 142,
     "metadata": {},
     "output_type": "execute_result"
    }
   ],
   "source": [
    "new_doubled_list = [i*2 for i in old_list if i % 2 == 0]\n",
    "new_doubled_list"
   ]
  },
  {
   "cell_type": "code",
   "execution_count": 143,
   "metadata": {
    "collapsed": false
   },
   "outputs": [
    {
     "data": {
      "text/plain": [
       "'Fizz'"
      ]
     },
     "execution_count": 143,
     "metadata": {},
     "output_type": "execute_result"
    }
   ],
   "source": [
    "\"Fizz\"*True"
   ]
  },
  {
   "cell_type": "code",
   "execution_count": 144,
   "metadata": {
    "collapsed": false
   },
   "outputs": [
    {
     "data": {
      "text/plain": [
       "''"
      ]
     },
     "execution_count": 144,
     "metadata": {},
     "output_type": "execute_result"
    }
   ],
   "source": [
    "\"Fizz\"*False"
   ]
  },
  {
   "cell_type": "markdown",
   "metadata": {},
   "source": [
    "## File I/O"
   ]
  },
  {
   "cell_type": "code",
   "execution_count": 145,
   "metadata": {
    "collapsed": true
   },
   "outputs": [],
   "source": [
    "f = open('new_file.txt', 'w')\n",
    "f.close()"
   ]
  },
  {
   "cell_type": "code",
   "execution_count": 146,
   "metadata": {
    "collapsed": true
   },
   "outputs": [],
   "source": [
    "f = open('new_file.txt', 'a')\n",
    "for i in range(1, 10+1):\n",
    "    text = \"new_line no.{}\\n\".format(i)\n",
    "    f.write(text)\n",
    "f.close()"
   ]
  },
  {
   "cell_type": "code",
   "execution_count": 147,
   "metadata": {
    "collapsed": true
   },
   "outputs": [],
   "source": [
    "f = open('new_file.txt', 'a')\n",
    "for i in range(21,30+1):\n",
    "    text = \"Brand new_line no.{}\\n\".format(i)\n",
    "    f.write(text)\n",
    "f.close()"
   ]
  },
  {
   "cell_type": "code",
   "execution_count": 150,
   "metadata": {
    "collapsed": false
   },
   "outputs": [
    {
     "name": "stdout",
     "output_type": "stream",
     "text": [
      "new_line no.1\n",
      "\n"
     ]
    }
   ],
   "source": [
    "f = open('new_file.txt', 'r')\n",
    "text = f.readline()\n",
    "print(text)\n",
    "f.close()"
   ]
  },
  {
   "cell_type": "code",
   "execution_count": 151,
   "metadata": {
    "collapsed": false
   },
   "outputs": [
    {
     "name": "stdout",
     "output_type": "stream",
     "text": [
      "new_line no.1\n",
      "\n",
      "new_line no.2\n",
      "\n",
      "new_line no.3\n",
      "\n",
      "new_line no.4\n",
      "\n",
      "new_line no.5\n",
      "\n",
      "new_line no.6\n",
      "\n",
      "new_line no.7\n",
      "\n",
      "new_line no.8\n",
      "\n",
      "new_line no.9\n",
      "\n",
      "new_line no.10\n",
      "\n",
      "Brand new_line no.21\n",
      "\n",
      "Brand new_line no.22\n",
      "\n",
      "Brand new_line no.23\n",
      "\n",
      "Brand new_line no.24\n",
      "\n",
      "Brand new_line no.25\n",
      "\n",
      "Brand new_line no.26\n",
      "\n",
      "Brand new_line no.27\n",
      "\n",
      "Brand new_line no.28\n",
      "\n",
      "Brand new_line no.29\n",
      "\n",
      "Brand new_line no.30\n",
      "\n"
     ]
    }
   ],
   "source": [
    "f = open('new_file.txt', 'r')\n",
    "\n",
    "while True:\n",
    "    text = f.readline()\n",
    "    if not text: \n",
    "        break\n",
    "    print(text)\n",
    "\n",
    "f.close()"
   ]
  },
  {
   "cell_type": "code",
   "execution_count": 152,
   "metadata": {
    "collapsed": false
   },
   "outputs": [
    {
     "name": "stdout",
     "output_type": "stream",
     "text": [
      "new_line no.1\n",
      "\n",
      "new_line no.2\n",
      "\n",
      "new_line no.3\n",
      "\n",
      "new_line no.4\n",
      "\n",
      "new_line no.5\n",
      "\n",
      "new_line no.6\n",
      "\n",
      "new_line no.7\n",
      "\n",
      "new_line no.8\n",
      "\n",
      "new_line no.9\n",
      "\n",
      "new_line no.10\n",
      "\n",
      "Brand new_line no.21\n",
      "\n",
      "Brand new_line no.22\n",
      "\n",
      "Brand new_line no.23\n",
      "\n",
      "Brand new_line no.24\n",
      "\n",
      "Brand new_line no.25\n",
      "\n",
      "Brand new_line no.26\n",
      "\n",
      "Brand new_line no.27\n",
      "\n",
      "Brand new_line no.28\n",
      "\n",
      "Brand new_line no.29\n",
      "\n",
      "Brand new_line no.30\n",
      "\n"
     ]
    }
   ],
   "source": [
    "f = open('new_file.txt', 'r')\n",
    "for text in f.readlines():\n",
    "    print(text)\n",
    "f.close()"
   ]
  },
  {
   "cell_type": "code",
   "execution_count": 153,
   "metadata": {
    "collapsed": false
   },
   "outputs": [
    {
     "name": "stdout",
     "output_type": "stream",
     "text": [
      "new_line no.1\n",
      "\n",
      "new_line no.2\n",
      "\n",
      "new_line no.3\n",
      "\n",
      "new_line no.4\n",
      "\n",
      "new_line no.5\n",
      "\n",
      "new_line no.6\n",
      "\n",
      "new_line no.7\n",
      "\n",
      "new_line no.8\n",
      "\n",
      "new_line no.9\n",
      "\n",
      "new_line no.10\n",
      "\n",
      "Brand new_line no.21\n",
      "\n",
      "Brand new_line no.22\n",
      "\n",
      "Brand new_line no.23\n",
      "\n",
      "Brand new_line no.24\n",
      "\n",
      "Brand new_line no.25\n",
      "\n",
      "Brand new_line no.26\n",
      "\n",
      "Brand new_line no.27\n",
      "\n",
      "Brand new_line no.28\n",
      "\n",
      "Brand new_line no.29\n",
      "\n",
      "Brand new_line no.30\n",
      "\n"
     ]
    }
   ],
   "source": [
    "#f = open('new_file.txt', 'r')\n",
    "#for text in f.readlines():\n",
    "#    print(text)\n",
    "#f.close()\n",
    "\n",
    "with open('new_file.txt', 'r') as f:\n",
    "    for text in f.readlines():\n",
    "        print(text)"
   ]
  },
  {
   "cell_type": "markdown",
   "metadata": {},
   "source": [
    "## Error Handle"
   ]
  },
  {
   "cell_type": "code",
   "execution_count": 154,
   "metadata": {
    "collapsed": true
   },
   "outputs": [],
   "source": [
    "try:\n",
    "    pass\n",
    "except:\n",
    "    pass"
   ]
  },
  {
   "cell_type": "code",
   "execution_count": 160,
   "metadata": {
    "collapsed": false
   },
   "outputs": [
    {
     "name": "stdout",
     "output_type": "stream",
     "text": [
      "Type Number: hi\n",
      "I said NUMBER!!!!!!!\n",
      "invalid literal for int() with base 10: 'hi'\n"
     ]
    }
   ],
   "source": [
    "try:\n",
    "    int(input(\"Type Number: \"))\n",
    "except ValueError as e:\n",
    "    print(\"I said NUMBER!!!!!!!\")\n",
    "    print(e)"
   ]
  },
  {
   "cell_type": "code",
   "execution_count": 163,
   "metadata": {
    "collapsed": false
   },
   "outputs": [
    {
     "name": "stdout",
     "output_type": "stream",
     "text": [
      "hello\n"
     ]
    }
   ],
   "source": [
    "try:\n",
    "    f = open('error.txt', 'r')\n",
    "except FileNotFoundError as e:\n",
    "    pass\n",
    "    #print(e)\n",
    "except ValueError:\n",
    "    pass\n",
    "except NameError:\n",
    "    pass\n",
    "else:\n",
    "    print(f.readline())\n",
    "    f.close()\n",
    "    \n",
    "print(\"hello\")"
   ]
  }
 ],
 "metadata": {
  "kernelspec": {
   "display_name": "Python 3",
   "language": "python",
   "name": "python3"
  },
  "language_info": {
   "codemirror_mode": {
    "name": "ipython",
    "version": 3
   },
   "file_extension": ".py",
   "mimetype": "text/x-python",
   "name": "python",
   "nbconvert_exporter": "python",
   "pygments_lexer": "ipython3",
   "version": "3.6.0"
  }
 },
 "nbformat": 4,
 "nbformat_minor": 2
}
