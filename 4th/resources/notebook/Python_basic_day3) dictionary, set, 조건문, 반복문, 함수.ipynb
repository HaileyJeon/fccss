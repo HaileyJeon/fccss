{
 "cells": [
  {
   "cell_type": "markdown",
   "metadata": {},
   "source": [
    "## Dictionary, Set"
   ]
  },
  {
   "cell_type": "code",
   "execution_count": 3,
   "metadata": {
    "collapsed": false
   },
   "outputs": [
    {
     "data": {
      "text/plain": [
       "{'name': 'John Doe'}"
      ]
     },
     "execution_count": 3,
     "metadata": {},
     "output_type": "execute_result"
    }
   ],
   "source": [
    "dict1 = {\"name\":\"John Doe\"}\n",
    "dict1"
   ]
  },
  {
   "cell_type": "code",
   "execution_count": 5,
   "metadata": {
    "collapsed": false
   },
   "outputs": [
    {
     "data": {
      "text/plain": [
       "{'Korean': 85, 'Math': 80, 'Science': [30, 50, 40, 42]}"
      ]
     },
     "execution_count": 5,
     "metadata": {},
     "output_type": "execute_result"
    }
   ],
   "source": [
    "dict2 = {\"Korean\":85,\n",
    "         \"Math\":80,\n",
    "         \"Science\":[30,50,40,42],\n",
    "        }\n",
    "dict2"
   ]
  },
  {
   "cell_type": "code",
   "execution_count": 6,
   "metadata": {
    "collapsed": false
   },
   "outputs": [
    {
     "data": {
      "text/plain": [
       "{'Korean': 85, 'Math': 80, 'Science': [30, 50, 40, 42], 'english': True}"
      ]
     },
     "execution_count": 6,
     "metadata": {},
     "output_type": "execute_result"
    }
   ],
   "source": [
    "# list_.insert(2,\"something\")\n",
    "dict2[\"english\"] = True\n",
    "dict2"
   ]
  },
  {
   "cell_type": "code",
   "execution_count": 7,
   "metadata": {
    "collapsed": false
   },
   "outputs": [
    {
     "data": {
      "text/plain": [
       "{'Korean': 85, 'Science': [30, 50, 40, 42], 'english': True}"
      ]
     },
     "execution_count": 7,
     "metadata": {},
     "output_type": "execute_result"
    }
   ],
   "source": [
    "del dict2['Math']\n",
    "dict2"
   ]
  },
  {
   "cell_type": "code",
   "execution_count": 8,
   "metadata": {
    "collapsed": false
   },
   "outputs": [
    {
     "data": {
      "text/plain": [
       "85"
      ]
     },
     "execution_count": 8,
     "metadata": {},
     "output_type": "execute_result"
    }
   ],
   "source": [
    "dict2[\"Korean\"]"
   ]
  },
  {
   "cell_type": "code",
   "execution_count": 11,
   "metadata": {
    "collapsed": false
   },
   "outputs": [
    {
     "name": "stdout",
     "output_type": "stream",
     "text": [
      "Hello \"world\"\n"
     ]
    }
   ],
   "source": [
    "print('Hello \"world\"')"
   ]
  },
  {
   "cell_type": "code",
   "execution_count": 16,
   "metadata": {
    "collapsed": false
   },
   "outputs": [
    {
     "data": {
      "text/plain": [
       "dict_keys(['Korean', 'Science', 'english'])"
      ]
     },
     "execution_count": 16,
     "metadata": {},
     "output_type": "execute_result"
    }
   ],
   "source": [
    "dict2.keys()"
   ]
  },
  {
   "cell_type": "code",
   "execution_count": 17,
   "metadata": {
    "collapsed": false
   },
   "outputs": [
    {
     "data": {
      "text/plain": [
       "dict_values([85, [30, 50, 40, 42], True])"
      ]
     },
     "execution_count": 17,
     "metadata": {},
     "output_type": "execute_result"
    }
   ],
   "source": [
    "dict2.values()"
   ]
  },
  {
   "cell_type": "code",
   "execution_count": 25,
   "metadata": {
    "collapsed": false
   },
   "outputs": [
    {
     "data": {
      "text/plain": [
       "dict_items([('Korean', 85), ('Science', [30, 50, 40, 42]), ('english', True)])"
      ]
     },
     "execution_count": 25,
     "metadata": {},
     "output_type": "execute_result"
    }
   ],
   "source": [
    "dict2.items()"
   ]
  },
  {
   "cell_type": "code",
   "execution_count": 26,
   "metadata": {
    "collapsed": false
   },
   "outputs": [
    {
     "name": "stdout",
     "output_type": "stream",
     "text": [
      "85\n",
      "[30, 50, 40, 42]\n",
      "True\n"
     ]
    }
   ],
   "source": [
    "for key in dict2.keys():\n",
    "    print(dict2[key])"
   ]
  },
  {
   "cell_type": "code",
   "execution_count": 27,
   "metadata": {
    "collapsed": true
   },
   "outputs": [],
   "source": [
    "fastcampus = 'fastcampus'\n",
    "python = 'python'\n",
    "\n",
    "# A 합집합 B ==> f,a,s,t,c,m,p,u,y,t,h,o,n\n",
    "# A 교집합 B ==> p,t\n",
    "# A 차집합 B ==> a,f,u,c,m,s\n",
    "# A 델타 B ==> f,a,s,t,c,m,u,y,h,o,n"
   ]
  },
  {
   "cell_type": "code",
   "execution_count": 29,
   "metadata": {
    "collapsed": false
   },
   "outputs": [
    {
     "data": {
      "text/plain": [
       "[1, 2, 3, 4, 5]"
      ]
     },
     "execution_count": 29,
     "metadata": {},
     "output_type": "execute_result"
    }
   ],
   "source": [
    "a = list(set([1,2,3,4,5,1]))\n",
    "a"
   ]
  },
  {
   "cell_type": "code",
   "execution_count": 37,
   "metadata": {
    "collapsed": false
   },
   "outputs": [
    {
     "name": "stdout",
     "output_type": "stream",
     "text": [
      "{'u', 'm', 'a', 'c', 'p', 't', 's', 'f'} {'h', 'o', 'p', 't', 'y', 'n'}\n",
      "{'h', 'y', 't', 'n', 'f', 'm', 'a', 'c', 'p', 'o', 'u', 's'}\n",
      "{'p', 't'}\n",
      "{'m', 'a', 'c', 'u', 'f', 's'}\n",
      "{'h', 'u', 'o', 'm', 'a', 'c', 'y', 'n', 'f', 's'}\n"
     ]
    }
   ],
   "source": [
    "set_fast = set(fastcampus)\n",
    "set_py = set(python)\n",
    "print(set_fast, set_py)\n",
    "print(set_fast | set_py) # A 합집합 B ==> f,a,s,t,c,m,p,u,y,t,h,o,n\n",
    "print(set_fast & set_py) # A 교집합 B ==> p,t\n",
    "print(set_fast - set_py) # A 차집합 B ==> a,f,u,c,m,s\n",
    "print(set_fast ^ set_py) # A 델타 B ==> f,a,s,t,c,m,u,y,h,o,n"
   ]
  },
  {
   "cell_type": "code",
   "execution_count": 36,
   "metadata": {
    "collapsed": false
   },
   "outputs": [
    {
     "name": "stdout",
     "output_type": "stream",
     "text": [
      "['p', 'y', 't', 'h', 'o', 'n']\n"
     ]
    },
    {
     "data": {
      "text/plain": [
       "['h', 'n', 'o', 'p', 't', 'y']"
      ]
     },
     "execution_count": 36,
     "metadata": {},
     "output_type": "execute_result"
    }
   ],
   "source": [
    "print(\",\".join('python').split(\",\"))\n",
    "pyt = list(set(\"python\"))\n",
    "pyt.sort()\n",
    "pyt"
   ]
  },
  {
   "cell_type": "code",
   "execution_count": 41,
   "metadata": {
    "collapsed": false
   },
   "outputs": [
    {
     "data": {
      "text/plain": [
       "{'apple', 'pen', 'pineapple'}"
      ]
     },
     "execution_count": 41,
     "metadata": {},
     "output_type": "execute_result"
    }
   ],
   "source": [
    "# ppap = {'pen', 'pineapple', 'apple', 'pen'}\n",
    "ppap = set(['pen', 'pineapple', 'apple', 'pen'])\n",
    "ppap"
   ]
  },
  {
   "cell_type": "code",
   "execution_count": 39,
   "metadata": {
    "collapsed": false
   },
   "outputs": [
    {
     "data": {
      "text/plain": [
       "True"
      ]
     },
     "execution_count": 39,
     "metadata": {},
     "output_type": "execute_result"
    }
   ],
   "source": [
    "'pen' in ppap"
   ]
  },
  {
   "cell_type": "code",
   "execution_count": 40,
   "metadata": {
    "collapsed": false
   },
   "outputs": [
    {
     "data": {
      "text/plain": [
       "False"
      ]
     },
     "execution_count": 40,
     "metadata": {},
     "output_type": "execute_result"
    }
   ],
   "source": [
    "'applepen' in ppap"
   ]
  },
  {
   "cell_type": "code",
   "execution_count": 42,
   "metadata": {
    "collapsed": false
   },
   "outputs": [
    {
     "data": {
      "text/plain": [
       "{'a', 'e', 'i', 'l', 'n', 'p'}"
      ]
     },
     "execution_count": 42,
     "metadata": {},
     "output_type": "execute_result"
    }
   ],
   "source": [
    "pineapple = set('pineapple')\n",
    "pineapple"
   ]
  },
  {
   "cell_type": "markdown",
   "metadata": {
    "collapsed": true,
    "deletable": true,
    "editable": true
   },
   "source": [
    "## 조건문(Conditional Statements)"
   ]
  },
  {
   "cell_type": "code",
   "execution_count": 68,
   "metadata": {
    "collapsed": false
   },
   "outputs": [
    {
     "name": "stdout",
     "output_type": "stream",
     "text": [
      "applepen\n"
     ]
    }
   ],
   "source": [
    "# 과일이 사과인지 비교해 사과라면 applepen!!\n",
    "fruit = \"apple\"\n",
    "if fruit == \"apple\":\n",
    "    print(fruit + \"pen\")\n",
    "\n",
    "# 그렇지 않은 경우는 어쩌죠?"
   ]
  },
  {
   "cell_type": "code",
   "execution_count": 69,
   "metadata": {
    "collapsed": false
   },
   "outputs": [
    {
     "name": "stdout",
     "output_type": "stream",
     "text": [
      "applepen\n"
     ]
    }
   ],
   "source": [
    "# else를 활용해 apple이 아닌 경우를 출력!!\n",
    "fruit = \"apple\"\n",
    "if fruit == \"apple\":\n",
    "    print(fruit + \"pen\")\n",
    "else:\n",
    "    print(\"Fruit Not Found\")\n",
    "\n",
    "# pineapple 은 어쩌죠?"
   ]
  },
  {
   "cell_type": "code",
   "execution_count": 70,
   "metadata": {
    "collapsed": false
   },
   "outputs": [
    {
     "name": "stdout",
     "output_type": "stream",
     "text": [
      "penpineapple\n"
     ]
    }
   ],
   "source": [
    "# else 안의 if 를 이용해 다중조건문을 생성!!\n",
    "fruit = \"pineapple\"\n",
    "if fruit == \"apple\":\n",
    "    print(fruit + \"pen\")\n",
    "else:\n",
    "    if fruit == \"pineapple\":\n",
    "        print(\"pen\" + fruit)\n",
    "    else:\n",
    "        print(\"Fruit Not Found\")\n",
    "\n",
    "# 조건을 여러번 비교할 때에는 들여쓰기가 너무 많은데요."
   ]
  },
  {
   "cell_type": "code",
   "execution_count": 71,
   "metadata": {
    "collapsed": false
   },
   "outputs": [
    {
     "name": "stdout",
     "output_type": "stream",
     "text": [
      "penpineapple\n"
     ]
    }
   ],
   "source": [
    "# elif를 이용해 들여쓰지 않고 완성!\n",
    "fruit = \"pineapple\"\n",
    "if fruit == \"apple\":\n",
    "    print(fruit + \"pen\")\n",
    "elif fruit == \"pineapple\":\n",
    "    print(\"pen\" + fruit)\n",
    "else:\n",
    "    print(\"Fruit Not Found\")\n",
    "\n",
    "# ppap 변수가 True일 때만 이 조건문을 실행하게 하고 싶어요"
   ]
  },
  {
   "cell_type": "code",
   "execution_count": 57,
   "metadata": {
    "collapsed": false
   },
   "outputs": [
    {
     "name": "stdout",
     "output_type": "stream",
     "text": [
      "penpineapple\n"
     ]
    }
   ],
   "source": [
    "# 한 조건에서 여러 변수를 비교해야 할 필요가 있다면 and, or를 이용!!\n",
    "ppap = True\n",
    "fruit = \"pineapple\"\n",
    "if fruit == \"apple\" and ppap == True:\n",
    "    print(fruit + \"pen\")\n",
    "elif fruit == \"pineapple\" and ppap == True:\n",
    "    print(\"pen\" + fruit)\n",
    "else:\n",
    "    print(\"Fruit Not Found\")"
   ]
  },
  {
   "cell_type": "code",
   "execution_count": 77,
   "metadata": {
    "collapsed": false
   },
   "outputs": [
    {
     "name": "stdout",
     "output_type": "stream",
     "text": [
      "30\n",
      "What is your name? John\n",
      "Hey, John. Guess the number: 31\n",
      "Wrong!!!!!!!!!!! The answer was 30.\n"
     ]
    }
   ],
   "source": [
    "import random\n",
    "\n",
    "\n",
    "answer = random.randint(1,100)\n",
    "print(answer)\n",
    "# ============================\n",
    "# 이름 ==> input() -->\n",
    "_name = input(\"What is your name? \")\n",
    "# 숫자 ==> input(\"안녕 {{누구}}야. 숫자를 입력하렴 >\")\n",
    "your_answer = int(input(\"Hey, %s. Guess the number: \" % _name))\n",
    "# 조건문을 이용해서 정답이랑 사용자가 입력한 숫자랑 같은지 비교하면 됩니다.\n",
    "if your_answer == answer:\n",
    "    print(\"Correct!\")\n",
    "else:\n",
    "    print(\"Wrong!!!!!!!!!!! The answer was %d.\" % answer)\n",
    "    \n",
    "# Todo\n",
    "# 범위 힌트 ==> Up & down\n",
    "# 실행횟수 제한 ==> \n",
    "# 인센티브와 패널티 ==> point, 칭호, // 왕거지 게임 처럼\n",
    "# 경쟁 ==> 순위보여주기"
   ]
  },
  {
   "cell_type": "markdown",
   "metadata": {},
   "source": [
    "## 반복문(Loops or Iterations)"
   ]
  },
  {
   "cell_type": "code",
   "execution_count": 78,
   "metadata": {
    "collapsed": false
   },
   "outputs": [
    {
     "name": "stdout",
     "output_type": "stream",
     "text": [
      "python\n",
      "java\n",
      "c\n"
     ]
    }
   ],
   "source": [
    "for language in [\"python\", \"java\", \"c\"]:\n",
    "    print(language)"
   ]
  },
  {
   "cell_type": "code",
   "execution_count": 82,
   "metadata": {
    "collapsed": false
   },
   "outputs": [
    {
     "name": "stdout",
     "output_type": "stream",
     "text": [
      "1\n",
      "2\n",
      "2\n",
      "4\n",
      "3\n",
      "6\n",
      "4\n",
      "8\n",
      "5\n",
      "10\n",
      "6\n",
      "12\n",
      "7\n",
      "14\n",
      "8\n",
      "16\n",
      "9\n",
      "18\n",
      "10\n",
      "20\n",
      "11\n",
      "22\n",
      "12\n",
      "24\n",
      "13\n",
      "26\n",
      "14\n",
      "28\n",
      "15\n",
      "30\n",
      "16\n",
      "32\n",
      "17\n",
      "34\n",
      "18\n",
      "36\n",
      "19\n",
      "38\n",
      "20\n",
      "40\n",
      "21\n",
      "42\n",
      "22\n",
      "44\n",
      "23\n",
      "46\n",
      "24\n",
      "48\n",
      "25\n",
      "50\n",
      "26\n",
      "52\n",
      "27\n",
      "54\n",
      "28\n",
      "56\n",
      "29\n",
      "58\n",
      "30\n",
      "60\n",
      "31\n",
      "62\n",
      "32\n",
      "64\n",
      "33\n",
      "66\n",
      "34\n",
      "68\n",
      "35\n",
      "70\n",
      "36\n",
      "72\n",
      "37\n",
      "74\n",
      "38\n",
      "76\n",
      "39\n",
      "78\n",
      "40\n",
      "80\n",
      "41\n",
      "82\n",
      "42\n",
      "84\n",
      "43\n",
      "86\n",
      "44\n",
      "88\n",
      "45\n",
      "90\n",
      "46\n",
      "92\n",
      "47\n",
      "94\n",
      "48\n",
      "96\n",
      "49\n",
      "98\n",
      "50\n",
      "100\n",
      "51\n",
      "102\n",
      "52\n",
      "104\n",
      "53\n",
      "106\n",
      "54\n",
      "108\n",
      "55\n",
      "110\n",
      "56\n",
      "112\n",
      "57\n",
      "114\n",
      "58\n",
      "116\n",
      "59\n",
      "118\n",
      "60\n",
      "120\n",
      "61\n",
      "122\n",
      "62\n",
      "124\n",
      "63\n",
      "126\n",
      "64\n",
      "128\n",
      "65\n",
      "130\n",
      "66\n",
      "132\n",
      "67\n",
      "134\n",
      "68\n",
      "136\n",
      "69\n",
      "138\n",
      "70\n",
      "140\n",
      "71\n",
      "142\n",
      "72\n",
      "144\n",
      "73\n",
      "146\n",
      "74\n",
      "148\n",
      "75\n",
      "150\n",
      "76\n",
      "152\n",
      "77\n",
      "154\n",
      "78\n",
      "156\n",
      "79\n",
      "158\n",
      "80\n",
      "160\n",
      "81\n",
      "162\n",
      "82\n",
      "164\n",
      "83\n",
      "166\n",
      "84\n",
      "168\n",
      "85\n",
      "170\n",
      "86\n",
      "172\n",
      "87\n",
      "174\n",
      "88\n",
      "176\n",
      "89\n",
      "178\n",
      "90\n",
      "180\n",
      "91\n",
      "182\n",
      "92\n",
      "184\n",
      "93\n",
      "186\n",
      "94\n",
      "188\n",
      "95\n",
      "190\n",
      "96\n",
      "192\n",
      "97\n",
      "194\n",
      "98\n",
      "196\n",
      "99\n",
      "198\n",
      "100\n",
      "200\n"
     ]
    }
   ],
   "source": [
    "for i in range(1,100+1):\n",
    "    print(i)\n",
    "    print(i*2)"
   ]
  },
  {
   "cell_type": "code",
   "execution_count": 83,
   "metadata": {
    "collapsed": false
   },
   "outputs": [
    {
     "name": "stdout",
     "output_type": "stream",
     "text": [
      "p\n",
      "y\n",
      "t\n",
      "h\n",
      "o\n",
      "n\n"
     ]
    }
   ],
   "source": [
    "for alphabet in \"python\":\n",
    "    print(alphabet)"
   ]
  },
  {
   "cell_type": "code",
   "execution_count": 85,
   "metadata": {
    "collapsed": false
   },
   "outputs": [
    {
     "name": "stdout",
     "output_type": "stream",
     "text": [
      "Favorite fruit? apple\n",
      "apple\n",
      "Favorite fruit? apple\n",
      "apple\n",
      "Favorite fruit? apple\n",
      "apple\n",
      "Favorite fruit? apple\n",
      "apple\n",
      "Favorite fruit? banana\n",
      "banana\n"
     ]
    }
   ],
   "source": [
    "fruit = \"apple\"\n",
    "while fruit == \"apple\":\n",
    "    fruit = input(\"Favorite fruit? \")\n",
    "    print(fruit)"
   ]
  },
  {
   "cell_type": "code",
   "execution_count": 86,
   "metadata": {
    "collapsed": false
   },
   "outputs": [
    {
     "name": "stdout",
     "output_type": "stream",
     "text": [
      "5\n",
      "4\n",
      "3\n",
      "2\n",
      "1\n"
     ]
    }
   ],
   "source": [
    "count = 5\n",
    "while count > 0:\n",
    "    print(count)\n",
    "    count = count - 1"
   ]
  },
  {
   "cell_type": "code",
   "execution_count": 87,
   "metadata": {
    "collapsed": false
   },
   "outputs": [
    {
     "name": "stdout",
     "output_type": "stream",
     "text": [
      "1\n",
      "3\n",
      "6\n",
      "10\n",
      "15\n",
      "21\n",
      "28\n",
      "36\n",
      "45\n",
      "55\n"
     ]
    }
   ],
   "source": [
    "sum = 0\n",
    "for i in range(1,10+1):\n",
    "    sum = sum + i\n",
    "    print(sum)"
   ]
  },
  {
   "cell_type": "code",
   "execution_count": 88,
   "metadata": {
    "collapsed": false
   },
   "outputs": [
    {
     "name": "stdout",
     "output_type": "stream",
     "text": [
      "1\n",
      "3\n",
      "6\n",
      "10\n",
      "15\n",
      "21\n",
      "28\n",
      "36\n",
      "45\n",
      "55\n"
     ]
    }
   ],
   "source": [
    "num = 1\n",
    "sum = 0\n",
    "while num < 10+1:\n",
    "    sum = sum + num\n",
    "    num = num + 1\n",
    "    print(sum)"
   ]
  },
  {
   "cell_type": "markdown",
   "metadata": {},
   "source": [
    "## Fizzbuzz\n",
    "\n",
    "1 ~ 100 까지 `반복` 하면서\n",
    "\n",
    "3의 배수: \"Fizz\"\n",
    "\n",
    "5의 배수: \"Buzz\"\n",
    "\n",
    "15의 배수: \"FizzBuzz\"\n",
    "\n",
    "나머지: 숫자"
   ]
  },
  {
   "cell_type": "code",
   "execution_count": 113,
   "metadata": {
    "collapsed": false
   },
   "outputs": [
    {
     "name": "stdout",
     "output_type": "stream",
     "text": [
      "1\n",
      "2\n",
      "fizz\n",
      "4\n",
      "buzz\n",
      "fizz\n",
      "7\n",
      "8\n",
      "fizz\n",
      "buzz\n",
      "11\n",
      "fizz\n",
      "13\n",
      "14\n",
      "fizzbuzz\n",
      "16\n",
      "17\n",
      "fizz\n",
      "19\n",
      "buzz\n",
      "fizz\n",
      "22\n",
      "23\n",
      "fizz\n",
      "buzz\n",
      "26\n",
      "fizz\n",
      "28\n",
      "29\n",
      "fizzbuzz\n",
      "31\n",
      "32\n",
      "fizz\n",
      "34\n",
      "buzz\n",
      "fizz\n",
      "37\n",
      "38\n",
      "fizz\n",
      "buzz\n",
      "41\n",
      "fizz\n",
      "43\n",
      "44\n",
      "fizzbuzz\n",
      "46\n",
      "47\n",
      "fizz\n",
      "49\n",
      "buzz\n",
      "fizz\n",
      "52\n",
      "53\n",
      "fizz\n",
      "buzz\n",
      "56\n",
      "fizz\n",
      "58\n",
      "59\n",
      "fizzbuzz\n",
      "61\n",
      "62\n",
      "fizz\n",
      "64\n",
      "buzz\n",
      "fizz\n",
      "67\n",
      "68\n",
      "fizz\n",
      "buzz\n",
      "71\n",
      "fizz\n",
      "73\n",
      "74\n",
      "fizzbuzz\n",
      "76\n",
      "77\n",
      "fizz\n",
      "79\n",
      "buzz\n",
      "fizz\n",
      "82\n",
      "83\n",
      "fizz\n",
      "buzz\n",
      "86\n",
      "fizz\n",
      "88\n",
      "89\n",
      "fizzbuzz\n",
      "91\n",
      "92\n",
      "fizz\n",
      "94\n",
      "buzz\n",
      "fizz\n",
      "97\n",
      "98\n",
      "fizz\n",
      "buzz\n"
     ]
    }
   ],
   "source": [
    "for cat in range(1,100+1):\n",
    "    if cat % 15 == 0:\n",
    "        print(\"fizzbuzz\")\n",
    "    elif cat % 3 == 0:\n",
    "        print(\"fizz\")\n",
    "    elif cat % 5 == 0:\n",
    "        print(\"buzz\")\n",
    "    else:\n",
    "        print(cat)"
   ]
  },
  {
   "cell_type": "code",
   "execution_count": 120,
   "metadata": {
    "collapsed": false
   },
   "outputs": [
    {
     "name": "stdout",
     "output_type": "stream",
     "text": [
      "71\n",
      "What is your name? John\n",
      "Hey, John. Guess the number: 50\n",
      "Up!! 4 times left.\n",
      "Hey, John. Guess the number: 75\n",
      "Down!! 3 times left.\n",
      "Hey, John. Guess the number: 62\n",
      "Up!! 2 times left.\n",
      "Hey, John. Guess the number: 67\n",
      "Up!! 1 times left.\n",
      "Hey, John. Guess the number: 69\n",
      "Up!! 0 times left.\n"
     ]
    }
   ],
   "source": [
    "# Numguess advanced\n",
    "import random\n",
    "\n",
    "\n",
    "answer = random.randint(1,100)\n",
    "print(answer)\n",
    "\n",
    "_name = input(\"What is your name? \")\n",
    "count = 5\n",
    "while count > 0:\n",
    "    your_answer = int(input(\"Hey, %s. Guess the number: \" % _name))\n",
    "    if your_answer == answer:\n",
    "        print(\"Correct!\")\n",
    "        break\n",
    "    elif your_answer > answer:\n",
    "        count = count - 1\n",
    "        print(\"Down!! %d times left.\" % count)\n",
    "    elif your_answer < answer:\n",
    "        count = count - 1\n",
    "        print(\"Up!! %d times left.\" % count)"
   ]
  },
  {
   "cell_type": "code",
   "execution_count": 122,
   "metadata": {
    "collapsed": true
   },
   "outputs": [],
   "source": [
    "## Function\n",
    "def awe_sum(num1, num2):\n",
    "    result = num1 + num2\n",
    "    return result"
   ]
  },
  {
   "cell_type": "code",
   "execution_count": 123,
   "metadata": {
    "collapsed": false
   },
   "outputs": [
    {
     "data": {
      "text/plain": [
       "3"
      ]
     },
     "execution_count": 123,
     "metadata": {},
     "output_type": "execute_result"
    }
   ],
   "source": [
    "awe_sum(1,2)"
   ]
  }
 ],
 "metadata": {
  "kernelspec": {
   "display_name": "Python 3",
   "language": "python",
   "name": "python3"
  },
  "language_info": {
   "codemirror_mode": {
    "name": "ipython",
    "version": 3
   },
   "file_extension": ".py",
   "mimetype": "text/x-python",
   "name": "python",
   "nbconvert_exporter": "python",
   "pygments_lexer": "ipython3",
   "version": "3.6.0"
  }
 },
 "nbformat": 4,
 "nbformat_minor": 2
}
