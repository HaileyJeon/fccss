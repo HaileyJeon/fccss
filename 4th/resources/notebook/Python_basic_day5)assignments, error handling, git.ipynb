{
 "cells": [
  {
   "cell_type": "code",
   "execution_count": null,
   "metadata": {
    "collapsed": false
   },
   "outputs": [],
   "source": [
    "for i in range(1,50+1):\n",
    "    if i % 15 == 0:\n",
    "        print(\"fizzbuzz\")\n",
    "    elif i % 3 == 0:\n",
    "        print(\"fizz\")\n",
    "    elif i % 5 == 0:\n",
    "        print(\"buzz\")\n",
    "    else:\n",
    "        print(i)"
   ]
  },
  {
   "cell_type": "code",
   "execution_count": null,
   "metadata": {
    "collapsed": false
   },
   "outputs": [],
   "source": [
    "num_list = [i for i in range(1,50+1)]\n",
    "num_list"
   ]
  },
  {
   "cell_type": "code",
   "execution_count": null,
   "metadata": {
    "collapsed": false
   },
   "outputs": [],
   "source": [
    "fizzbuzz = [\"fizzbuzz\" if i%15==0 else \"fizz\" if i%3==0 else \"buzz\" if i%5==0 else i for i in num_list]\n",
    "fizzbuzz\n",
    "\n",
    "#if i % 15 == 0:\n",
    "#    print(\"fizzbuzz\")\n",
    "#else:\n",
    "#    if i % 3 == 0:\n",
    "#        print(\"fizz\")\n",
    "#    else:\n",
    "#        if i % 5 == 0:\n",
    "#            print(\"buzz\")\n",
    "#        else:\n",
    "#            print(i)"
   ]
  },
  {
   "cell_type": "code",
   "execution_count": null,
   "metadata": {
    "collapsed": false
   },
   "outputs": [],
   "source": [
    "new_fizzbuzz = [\"fizz\"*(i%3==0) + \"buzz\"*(i%5==0) or i for i in num_list]\n",
    "new_fizzbuzz"
   ]
  },
  {
   "cell_type": "code",
   "execution_count": 8,
   "metadata": {
    "collapsed": false
   },
   "outputs": [
    {
     "name": "stdout",
     "output_type": "stream",
     "text": [
      "Type two numbers with space: 12 7 \n",
      "  12       7 struck\n",
      "   6      14 struck\n",
      "   3      28 keep\n",
      "   1      56 keep\n",
      "The result is 84\n"
     ]
    }
   ],
   "source": [
    "def split_number():\n",
    "    try:\n",
    "        numbers = input(\"Type two numbers with space: \").split()\n",
    "        num1 = int(numbers[0])\n",
    "        num2 = int(numbers[1])\n",
    "        return num1, num2\n",
    "    except ValueError as e:\n",
    "        print(\"Not String!!! Type two NUMBER!!!!!!!!\")\n",
    "        print(e)\n",
    "        split_number()\n",
    "\n",
    "num_list = split_number()\n",
    "num1 = num_list[0]\n",
    "num2 = num_list[1]\n",
    "result = 0\n",
    "while num1>=1:\n",
    "    if num1 % 2 == 0:\n",
    "        print(\"%4d %7d struck\" % (num1, num2))\n",
    "    else:\n",
    "        print(\"%4d %7d keep\" % (num1, num2))\n",
    "        result = result + num2\n",
    "    num1 = num1 // 2\n",
    "    num2 = num2 * 2\n",
    "print(\"The result is %d\" % result)"
   ]
  },
  {
   "cell_type": "code",
   "execution_count": null,
   "metadata": {
    "collapsed": false
   },
   "outputs": [],
   "source": [
    "try:\n",
    "    f = open(\"./kirin.pdf\", \"r\")\n",
    "except FileNotFoundError as e:\n",
    "    print(e)"
   ]
  },
  {
   "cell_type": "code",
   "execution_count": null,
   "metadata": {
    "collapsed": false
   },
   "outputs": [],
   "source": [
    "def ask_name():    \n",
    "    try:\n",
    "        name = eval(input())\n",
    "        return name + \"1\"\n",
    "    except NameError as e:\n",
    "        print(e)\n",
    "        ask_name()\n",
    "    except TypeError as e:\n",
    "        print(e)\n",
    "        ask_name()\n",
    "\n",
    "ask_name()"
   ]
  }
 ],
 "metadata": {
  "kernelspec": {
   "display_name": "Python 3",
   "language": "python",
   "name": "python3"
  },
  "language_info": {
   "codemirror_mode": {
    "name": "ipython",
    "version": 3
   },
   "file_extension": ".py",
   "mimetype": "text/x-python",
   "name": "python",
   "nbconvert_exporter": "python",
   "pygments_lexer": "ipython3",
   "version": "3.6.0"
  }
 },
 "nbformat": 4,
 "nbformat_minor": 2
}
