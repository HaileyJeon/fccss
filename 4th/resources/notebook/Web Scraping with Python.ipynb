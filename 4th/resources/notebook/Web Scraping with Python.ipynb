{
 "cells": [
  {
   "cell_type": "code",
   "execution_count": 1,
   "metadata": {
    "collapsed": true
   },
   "outputs": [],
   "source": [
    "import requests\n",
    "from bs4 import BeautifulSoup"
   ]
  },
  {
   "cell_type": "code",
   "execution_count": 2,
   "metadata": {
    "collapsed": false
   },
   "outputs": [
    {
     "name": "stdout",
     "output_type": "stream",
     "text": [
      "<Response [200]>\n"
     ]
    }
   ],
   "source": [
    "url = \"https://www.naver.com/\"\n",
    "response = requests.get(url)\n",
    "print(response)"
   ]
  },
  {
   "cell_type": "code",
   "execution_count": 4,
   "metadata": {
    "collapsed": false
   },
   "outputs": [],
   "source": [
    "html = response.text"
   ]
  },
  {
   "cell_type": "code",
   "execution_count": 6,
   "metadata": {
    "collapsed": false,
    "scrolled": false
   },
   "outputs": [
    {
     "name": "stdout",
     "output_type": "stream",
     "text": [
      "<ul class=\"ah_l\">\n",
      "<li class=\"ah_item\">\n",
      "<a class=\"ah_a\" data-clk=\"lve.keyword\" href=\"#\">\n",
      "<span class=\"ah_r\">1</span>\n",
      "<span class=\"ah_k\">안다</span>\n",
      "</a>\n",
      "</li>\n",
      "<li class=\"ah_item\">\n",
      "<a class=\"ah_a\" data-clk=\"lve.keyword\" href=\"#\">\n",
      "<span class=\"ah_r\">2</span>\n",
      "<span class=\"ah_k\">드라이비트</span>\n",
      "</a>\n",
      "</li>\n",
      "<li class=\"ah_item\">\n",
      "<a class=\"ah_a\" data-clk=\"lve.keyword\" href=\"#\">\n",
      "<span class=\"ah_r\">3</span>\n",
      "<span class=\"ah_k\">만수르</span>\n",
      "</a>\n",
      "</li>\n",
      "<li class=\"ah_item\">\n",
      "<a class=\"ah_a\" data-clk=\"lve.keyword\" href=\"#\">\n",
      "<span class=\"ah_r\">4</span>\n",
      "<span class=\"ah_k\">홍준표</span>\n",
      "</a>\n",
      "</li>\n",
      "<li class=\"ah_item\">\n",
      "<a class=\"ah_a\" data-clk=\"lve.keyword\" href=\"#\">\n",
      "<span class=\"ah_r\">5</span>\n",
      "<span class=\"ah_k\">홍준표 대법원</span>\n",
      "</a>\n",
      "</li>\n",
      "<li class=\"ah_item\">\n",
      "<a class=\"ah_a\" data-clk=\"lve.keyword\" href=\"#\">\n",
      "<span class=\"ah_r\">6</span>\n",
      "<span class=\"ah_k\">제천 화재</span>\n",
      "</a>\n",
      "</li>\n",
      "<li class=\"ah_item\">\n",
      "<a class=\"ah_a\" data-clk=\"lve.keyword\" href=\"#\">\n",
      "<span class=\"ah_r\">7</span>\n",
      "<span class=\"ah_k\">제천 화재 원인</span>\n",
      "</a>\n",
      "</li>\n",
      "<li class=\"ah_item\">\n",
      "<a class=\"ah_a\" data-clk=\"lve.keyword\" href=\"#\">\n",
      "<span class=\"ah_r\">8</span>\n",
      "<span class=\"ah_k\">애동지</span>\n",
      "</a>\n",
      "</li>\n",
      "<li class=\"ah_item\">\n",
      "<a class=\"ah_a\" data-clk=\"lve.keyword\" href=\"#\">\n",
      "<span class=\"ah_r\">9</span>\n",
      "<span class=\"ah_k\">동지</span>\n",
      "</a>\n",
      "</li>\n",
      "<li class=\"ah_item\">\n",
      "<a class=\"ah_a\" data-clk=\"lve.keyword\" href=\"#\">\n",
      "<span class=\"ah_r\">10</span>\n",
      "<span class=\"ah_k\">너의 이름은</span>\n",
      "</a>\n",
      "</li>\n",
      "<li class=\"ah_item\">\n",
      "<a class=\"ah_a\" data-clk=\"lve.keyword\" href=\"#\">\n",
      "<span class=\"ah_r\">11</span>\n",
      "<span class=\"ah_k\">최희서</span>\n",
      "</a>\n",
      "</li>\n",
      "<li class=\"ah_item\">\n",
      "<a class=\"ah_a\" data-clk=\"lve.keyword\" href=\"#\">\n",
      "<span class=\"ah_r\">12</span>\n",
      "<span class=\"ah_k\">가상화폐</span>\n",
      "</a>\n",
      "</li>\n",
      "<li class=\"ah_item\">\n",
      "<a class=\"ah_a\" data-clk=\"lve.keyword\" href=\"#\">\n",
      "<span class=\"ah_r\">13</span>\n",
      "<span class=\"ah_k\">이강인</span>\n",
      "</a>\n",
      "</li>\n",
      "<li class=\"ah_item\">\n",
      "<a class=\"ah_a\" data-clk=\"lve.keyword\" href=\"#\">\n",
      "<span class=\"ah_r\">14</span>\n",
      "<span class=\"ah_k\">진학사어플라이</span>\n",
      "</a>\n",
      "</li>\n",
      "<li class=\"ah_item\">\n",
      "<a class=\"ah_a\" data-clk=\"lve.keyword\" href=\"#\">\n",
      "<span class=\"ah_r\">15</span>\n",
      "<span class=\"ah_k\">신동빈</span>\n",
      "</a>\n",
      "</li>\n",
      "<li class=\"ah_item\">\n",
      "<a class=\"ah_a\" data-clk=\"lve.keyword\" href=\"#\">\n",
      "<span class=\"ah_r\">16</span>\n",
      "<span class=\"ah_k\">제천</span>\n",
      "</a>\n",
      "</li>\n",
      "<li class=\"ah_item\">\n",
      "<a class=\"ah_a\" data-clk=\"lve.keyword\" href=\"#\">\n",
      "<span class=\"ah_r\">17</span>\n",
      "<span class=\"ah_k\">박진주</span>\n",
      "</a>\n",
      "</li>\n",
      "<li class=\"ah_item\">\n",
      "<a class=\"ah_a\" data-clk=\"lve.keyword\" href=\"#\">\n",
      "<span class=\"ah_r\">18</span>\n",
      "<span class=\"ah_k\">류여해</span>\n",
      "</a>\n",
      "</li>\n",
      "<li class=\"ah_item\">\n",
      "<a class=\"ah_a\" data-clk=\"lve.keyword\" href=\"#\">\n",
      "<span class=\"ah_r\">19</span>\n",
      "<span class=\"ah_k\">감시자들</span>\n",
      "</a>\n",
      "</li>\n",
      "<li class=\"ah_item\">\n",
      "<a class=\"ah_a\" data-clk=\"lve.keyword\" href=\"#\">\n",
      "<span class=\"ah_r\">20</span>\n",
      "<span class=\"ah_k\">제천 스포츠센터</span>\n",
      "</a>\n",
      "</li>\n",
      "</ul>\n"
     ]
    }
   ],
   "source": [
    "#BeautifulSoup\n",
    "soup = BeautifulSoup(html, \"html.parser\") # html.parser, lxml\n",
    "ul = soup.find(\"ul\", attrs={\"class\":\"ah_l\"})\n",
    "print(ul)"
   ]
  },
  {
   "cell_type": "code",
   "execution_count": 7,
   "metadata": {
    "collapsed": false
   },
   "outputs": [
    {
     "name": "stdout",
     "output_type": "stream",
     "text": [
      "[<li class=\"ah_item\">\n",
      "<a class=\"ah_a\" data-clk=\"lve.keyword\" href=\"#\">\n",
      "<span class=\"ah_r\">1</span>\n",
      "<span class=\"ah_k\">안다</span>\n",
      "</a>\n",
      "</li>, <li class=\"ah_item\">\n",
      "<a class=\"ah_a\" data-clk=\"lve.keyword\" href=\"#\">\n",
      "<span class=\"ah_r\">2</span>\n",
      "<span class=\"ah_k\">드라이비트</span>\n",
      "</a>\n",
      "</li>, <li class=\"ah_item\">\n",
      "<a class=\"ah_a\" data-clk=\"lve.keyword\" href=\"#\">\n",
      "<span class=\"ah_r\">3</span>\n",
      "<span class=\"ah_k\">만수르</span>\n",
      "</a>\n",
      "</li>, <li class=\"ah_item\">\n",
      "<a class=\"ah_a\" data-clk=\"lve.keyword\" href=\"#\">\n",
      "<span class=\"ah_r\">4</span>\n",
      "<span class=\"ah_k\">홍준표</span>\n",
      "</a>\n",
      "</li>, <li class=\"ah_item\">\n",
      "<a class=\"ah_a\" data-clk=\"lve.keyword\" href=\"#\">\n",
      "<span class=\"ah_r\">5</span>\n",
      "<span class=\"ah_k\">홍준표 대법원</span>\n",
      "</a>\n",
      "</li>, <li class=\"ah_item\">\n",
      "<a class=\"ah_a\" data-clk=\"lve.keyword\" href=\"#\">\n",
      "<span class=\"ah_r\">6</span>\n",
      "<span class=\"ah_k\">제천 화재</span>\n",
      "</a>\n",
      "</li>, <li class=\"ah_item\">\n",
      "<a class=\"ah_a\" data-clk=\"lve.keyword\" href=\"#\">\n",
      "<span class=\"ah_r\">7</span>\n",
      "<span class=\"ah_k\">제천 화재 원인</span>\n",
      "</a>\n",
      "</li>, <li class=\"ah_item\">\n",
      "<a class=\"ah_a\" data-clk=\"lve.keyword\" href=\"#\">\n",
      "<span class=\"ah_r\">8</span>\n",
      "<span class=\"ah_k\">애동지</span>\n",
      "</a>\n",
      "</li>, <li class=\"ah_item\">\n",
      "<a class=\"ah_a\" data-clk=\"lve.keyword\" href=\"#\">\n",
      "<span class=\"ah_r\">9</span>\n",
      "<span class=\"ah_k\">동지</span>\n",
      "</a>\n",
      "</li>, <li class=\"ah_item\">\n",
      "<a class=\"ah_a\" data-clk=\"lve.keyword\" href=\"#\">\n",
      "<span class=\"ah_r\">10</span>\n",
      "<span class=\"ah_k\">너의 이름은</span>\n",
      "</a>\n",
      "</li>, <li class=\"ah_item\">\n",
      "<a class=\"ah_a\" data-clk=\"lve.keyword\" href=\"#\">\n",
      "<span class=\"ah_r\">11</span>\n",
      "<span class=\"ah_k\">최희서</span>\n",
      "</a>\n",
      "</li>, <li class=\"ah_item\">\n",
      "<a class=\"ah_a\" data-clk=\"lve.keyword\" href=\"#\">\n",
      "<span class=\"ah_r\">12</span>\n",
      "<span class=\"ah_k\">가상화폐</span>\n",
      "</a>\n",
      "</li>, <li class=\"ah_item\">\n",
      "<a class=\"ah_a\" data-clk=\"lve.keyword\" href=\"#\">\n",
      "<span class=\"ah_r\">13</span>\n",
      "<span class=\"ah_k\">이강인</span>\n",
      "</a>\n",
      "</li>, <li class=\"ah_item\">\n",
      "<a class=\"ah_a\" data-clk=\"lve.keyword\" href=\"#\">\n",
      "<span class=\"ah_r\">14</span>\n",
      "<span class=\"ah_k\">진학사어플라이</span>\n",
      "</a>\n",
      "</li>, <li class=\"ah_item\">\n",
      "<a class=\"ah_a\" data-clk=\"lve.keyword\" href=\"#\">\n",
      "<span class=\"ah_r\">15</span>\n",
      "<span class=\"ah_k\">신동빈</span>\n",
      "</a>\n",
      "</li>, <li class=\"ah_item\">\n",
      "<a class=\"ah_a\" data-clk=\"lve.keyword\" href=\"#\">\n",
      "<span class=\"ah_r\">16</span>\n",
      "<span class=\"ah_k\">제천</span>\n",
      "</a>\n",
      "</li>, <li class=\"ah_item\">\n",
      "<a class=\"ah_a\" data-clk=\"lve.keyword\" href=\"#\">\n",
      "<span class=\"ah_r\">17</span>\n",
      "<span class=\"ah_k\">박진주</span>\n",
      "</a>\n",
      "</li>, <li class=\"ah_item\">\n",
      "<a class=\"ah_a\" data-clk=\"lve.keyword\" href=\"#\">\n",
      "<span class=\"ah_r\">18</span>\n",
      "<span class=\"ah_k\">류여해</span>\n",
      "</a>\n",
      "</li>, <li class=\"ah_item\">\n",
      "<a class=\"ah_a\" data-clk=\"lve.keyword\" href=\"#\">\n",
      "<span class=\"ah_r\">19</span>\n",
      "<span class=\"ah_k\">감시자들</span>\n",
      "</a>\n",
      "</li>, <li class=\"ah_item\">\n",
      "<a class=\"ah_a\" data-clk=\"lve.keyword\" href=\"#\">\n",
      "<span class=\"ah_r\">20</span>\n",
      "<span class=\"ah_k\">제천 스포츠센터</span>\n",
      "</a>\n",
      "</li>]\n"
     ]
    }
   ],
   "source": [
    "all_li = ul.find_all(\"li\")\n",
    "print(all_li)"
   ]
  },
  {
   "cell_type": "code",
   "execution_count": 8,
   "metadata": {
    "collapsed": false,
    "scrolled": true
   },
   "outputs": [
    {
     "name": "stdout",
     "output_type": "stream",
     "text": [
      "1 안다\n",
      "2 드라이비트\n",
      "3 만수르\n",
      "4 홍준표\n",
      "5 홍준표 대법원\n",
      "6 제천 화재\n",
      "7 제천 화재 원인\n",
      "8 애동지\n",
      "9 동지\n",
      "10 너의 이름은\n",
      "11 최희서\n",
      "12 가상화폐\n",
      "13 이강인\n",
      "14 진학사어플라이\n",
      "15 신동빈\n",
      "16 제천\n",
      "17 박진주\n",
      "18 류여해\n",
      "19 감시자들\n",
      "20 제천 스포츠센터\n"
     ]
    }
   ],
   "source": [
    "for li in all_li:\n",
    "    all_span = li.find_all(\"span\")\n",
    "    rank = all_span[0].text\n",
    "    keyword = all_span[1].text\n",
    "    print(rank, keyword)"
   ]
  },
  {
   "cell_type": "code",
   "execution_count": 25,
   "metadata": {
    "collapsed": false
   },
   "outputs": [
    {
     "data": {
      "text/plain": [
       "[('1', '안다'),\n",
       " ('2', '드라이비트'),\n",
       " ('3', '만수르'),\n",
       " ('4', '홍준표'),\n",
       " ('5', '홍준표 대법원'),\n",
       " ('6', '제천 화재'),\n",
       " ('7', '제천 화재 원인'),\n",
       " ('8', '애동지'),\n",
       " ('9', '동지'),\n",
       " ('10', '너의 이름은'),\n",
       " ('11', '최희서'),\n",
       " ('12', '가상화폐'),\n",
       " ('13', '이강인'),\n",
       " ('14', '진학사어플라이'),\n",
       " ('15', '신동빈'),\n",
       " ('16', '제천'),\n",
       " ('17', '박진주'),\n",
       " ('18', '류여해'),\n",
       " ('19', '감시자들'),\n",
       " ('20', '제천 스포츠센터')]"
      ]
     },
     "execution_count": 25,
     "metadata": {},
     "output_type": "execute_result"
    }
   ],
   "source": [
    "# another approach\n",
    "soup = BeautifulSoup(html, \"html.parser\")\n",
    "ranks = soup.find_all(\"span\", attrs={\"class\":\"ah_r\"})\n",
    "keywords = soup.find_all(\"span\", attrs={\"class\":\"ah_k\"})\n",
    "ranks = [span.text for span in ranks][:20]\n",
    "keywords = [span.text for span in keywords][:20]\n",
    "zipped = list(zip(ranks, keywords))\n",
    "zipped\n"
   ]
  },
  {
   "cell_type": "code",
   "execution_count": 27,
   "metadata": {
    "collapsed": false
   },
   "outputs": [],
   "source": [
    "# Get Top Box Office of Rotten Tomatoes\n",
    "url = \"https://www.rottentomatoes.com/\"\n",
    "response = requests.get(url)\n",
    "html = response.text"
   ]
  },
  {
   "cell_type": "code",
   "execution_count": null,
   "metadata": {
    "collapsed": true
   },
   "outputs": [],
   "source": [
    "soup = BeautifulSoup(html, \"html.parser\")\n",
    "table = soup.find(\"table\", attrs={\"id\":\"Top-Box-Office\"})\n",
    "all_tr = table.find_all(\"tr\")"
   ]
  },
  {
   "cell_type": "code",
   "execution_count": 46,
   "metadata": {
    "collapsed": false
   },
   "outputs": [
    {
     "name": "stdout",
     "output_type": "stream",
     "text": [
      " 92%       Star Wars: The Last Jedi $220.1M https://www.rottentomatoes.com/m/star_wars_the_last_jedi\n",
      " 70%                      Ferdinand  $13.3M https://www.rottentomatoes.com/m/ferdinand\n",
      " 97%                           Coco  $10.1M https://www.rottentomatoes.com/m/coco_2017\n",
      " 84%                         Wonder   $5.5M https://www.rottentomatoes.com/m/wonder\n",
      " 41%                 Justice League   $4.2M https://www.rottentomatoes.com/m/justice_league_2017\n",
      " 19%                 Daddy's Home 2   $3.9M https://www.rottentomatoes.com/m/daddys_home_2\n",
      " 92%                 Thor: Ragnarok     $3M https://www.rottentomatoes.com/m/thor_ragnarok_2017\n",
      " 92%            The Disaster Artist   $2.8M https://www.rottentomatoes.com/m/the_disaster_artist\n",
      " 58%   Murder On The Orient Express   $2.5M https://www.rottentomatoes.com/m/murder_on_the_orient_express_2017\n",
      " 99%                      Lady Bird   $2.1M https://www.rottentomatoes.com/m/lady_bird\n"
     ]
    }
   ],
   "source": [
    "for tr in all_tr:\n",
    "    all_td = tr.find_all(\"td\")\n",
    "    score = all_td[0].find(\"span\", attrs={\"class\":\"tMeterScore\"}).text\n",
    "    movie_name = all_td[1].a.text\n",
    "    revenue = all_td[2].a.text.strip('\\n').strip()\n",
    "    link = url + all_td[2].a['href'].strip('/')\n",
    "    print(\"%4s %30s %7s %s\"%(score, movie_name, revenue, link))"
   ]
  },
  {
   "cell_type": "markdown",
   "metadata": {},
   "source": [
    "# Web scraping with Selenium"
   ]
  },
  {
   "cell_type": "code",
   "execution_count": 63,
   "metadata": {
    "collapsed": false
   },
   "outputs": [],
   "source": [
    "import os\n",
    "from selenium import webdriver\n",
    "from selenium.webdriver.support.ui import WebDriverWait\n",
    "from selenium.webdriver.support import expected_conditions as EC\n",
    "from selenium.webdriver.common.by import By"
   ]
  },
  {
   "cell_type": "code",
   "execution_count": 68,
   "metadata": {
    "collapsed": false
   },
   "outputs": [
    {
     "name": "stdout",
     "output_type": "stream",
     "text": [
      "The key differences between Python 2.7.x and Python 3.x with examples\n",
      "Python2orPython3 - Python Wiki\n",
      "Python 2 vs Python 3: Which Should I Learn? - Learn to Code With Me\n",
      "Python 2 vs Python 3: Practical Considerations | DigitalOcean\n",
      "The Key Differences Between Python 2 and Python 3 | Application ...\n",
      "Important differences between Python 2.x and Python 3.x with ...\n",
      "python 3.x - Difference between Python3 and Python2 - socket.send ...\n",
      "Python 3 vs Python 2: It's Different This Time | ActiveState\n",
      "What is the difference between Python 2.x and Python 3.x ...\n",
      "Python 2 VS Python 3 - Version Differences & Which You Should Learn\n"
     ]
    }
   ],
   "source": [
    "# 'C:\\python36\\chromedriver.exe'\n",
    "ch_driver = webdriver.Chrome('/Users/ulgoon/.pyenv/shims/chromedriver')\n",
    "ch_driver.get('https://www.google.com/')\n",
    "\n",
    "# 검색어 입력 후 엔터키로 수행\n",
    "\n",
    "text_area = ch_driver.find_element_by_id(\"lst-ib\")\n",
    "text_area.send_keys(\"Python3 Python2 difference \\n\")\n",
    "\n",
    "# ch_driver.find_element_by_name(\"btnK\").click()\n",
    "\n",
    "# 검색결과 창에서 링크 가져오기\n",
    "locator = \"//div/h3/a\"\n",
    "\n",
    "WebDriverWait(ch_driver, 1).until(EC.visibility_of_element_located((By.XPATH, locator)))\n",
    "\n",
    "results = ch_driver.find_elements(By.XPATH, locator)\n",
    "for item in results:\n",
    "    print(item.text)\n",
    "\n",
    "ch_driver.execute('ttoh_attendance(\"2017-12-20\")')"
   ]
  },
  {
   "cell_type": "code",
   "execution_count": null,
   "metadata": {
    "collapsed": true
   },
   "outputs": [],
   "source": []
  },
  {
   "cell_type": "code",
   "execution_count": 75,
   "metadata": {
    "collapsed": false
   },
   "outputs": [],
   "source": [
    "url = \"https://stackoverflow.com\"\n",
    "tag = \"/questions/tagged/\"\n",
    "query = \"python\"\n",
    "response = requests.get(url + tag + query)\n",
    "html = response.text\n",
    "\n",
    "soup = BeautifulSoup(html, \"html.parser\")\n",
    "all_a = soup.find_all(\"a\", attrs={\"class\":\"question-hyperlink\"})"
   ]
  },
  {
   "cell_type": "code",
   "execution_count": 78,
   "metadata": {
    "collapsed": false
   },
   "outputs": [
    {
     "name": "stdout",
     "output_type": "stream",
     "text": [
      "Is there an existing repository to a python code that can support amazon Lex? https://stackoverflow.com/questions/47937648/is-there-an-existing-repository-to-a-python-code-that-can-support-amazon-lex\n",
      "How to calculate response time in Django Python https://stackoverflow.com/questions/47937566/how-to-calculate-response-time-in-django-python\n",
      "pandas converts column(Series) to numpy array https://stackoverflow.com/questions/47937470/pandas-converts-columnseries-to-numpy-array\n",
      "Parallel processing with xargs in bash https://stackoverflow.com/questions/47937446/parallel-processing-with-xargs-in-bash\n",
      "Why True != True != True is False. https://stackoverflow.com/questions/47937440/why-true-true-true-is-false\n",
      "Google's Cloud speech API Exception in speech request error https://stackoverflow.com/questions/47937426/googles-cloud-speech-api-exception-in-speech-request-error\n",
      "How To Display Image to HTML using python https://stackoverflow.com/questions/47937366/how-to-display-image-to-html-using-python\n",
      "How to find out Nodename and port number of Hadoop cluster? https://stackoverflow.com/questions/47937315/how-to-find-out-nodename-and-port-number-of-hadoop-cluster\n",
      "About crontab running script with checking if the same script was runned before https://stackoverflow.com/questions/47937292/about-crontab-running-script-with-checking-if-the-same-script-was-runned-before\n",
      "Getting desired xpath https://stackoverflow.com/questions/47937274/getting-desired-xpath\n",
      "python can't catch KafkaException of confluent_kafka https://stackoverflow.com/questions/47937273/python-cant-catch-kafkaexception-of-confluent-kafka\n",
      "Customizing django form based on currently logged in user https://stackoverflow.com/questions/47937261/customizing-django-form-based-on-currently-logged-in-user\n",
      "Error while installing Django-channels https://stackoverflow.com/questions/47937256/error-while-installing-django-channels\n",
      "rest client example in python version 2.7.1 https://stackoverflow.com/questions/47937245/rest-client-example-in-python-version-2-7-1\n",
      "how to set a Gtk RadioMenuItem as 'selected' without activating it https://stackoverflow.com/questions/47937244/how-to-set-a-gtk-radiomenuitem-as-selected-without-activating-it\n",
      "Classes in Linked List not working https://stackoverflow.com/questions/47937240/classes-in-linked-list-not-working\n",
      "Sum of values from QTableWidget https://stackoverflow.com/questions/47937203/sum-of-values-from-qtablewidget\n",
      "want to get data from file where file name changing as date changes https://stackoverflow.com/questions/47937193/want-to-get-data-from-file-where-file-name-changing-as-date-changes\n",
      "How to transpose dataframe using custom python scripts not using pandas https://stackoverflow.com/questions/47937175/how-to-transpose-dataframe-using-custom-python-scripts-not-using-pandas\n",
      "Idiomatic python example of quicksort using Hoare partition scheme [duplicate] https://stackoverflow.com/questions/47937162/idiomatic-python-example-of-quicksort-using-hoare-partition-scheme\n",
      "HOW TO MERGE SCREEN AND WIDGET IN KIVY 1.4 https://stackoverflow.com/questions/47937136/how-to-merge-screen-and-widget-in-kivy-1-4\n",
      "Unable to install setuptools on mac osx - bad install directory or PYTHONPATH https://stackoverflow.com/questions/47937133/unable-to-install-setuptools-on-mac-osx-bad-install-directory-or-pythonpath\n",
      "reading data only once in SQLite3 with Python https://stackoverflow.com/questions/47937130/reading-data-only-once-in-sqlite3-with-python\n",
      "Eigenfaces training image pixel size error https://stackoverflow.com/questions/47937122/eigenfaces-training-image-pixel-size-error\n",
      "TypeError: expected string or bytes-like object in pos tagging(perceptron) https://stackoverflow.com/questions/47937069/typeerror-expected-string-or-bytes-like-object-in-pos-taggingperceptron\n",
      "Can't pickle a dictionary with all-primitive values in Jupyter https://stackoverflow.com/questions/47937040/cant-pickle-a-dictionary-with-all-primitive-values-in-jupyter\n",
      "How to convert SVG image into line segments? https://stackoverflow.com/questions/47936987/how-to-convert-svg-image-into-line-segments\n",
      "Get max value from duplicate data with other columns, Python 3.6 [duplicate] https://stackoverflow.com/questions/47936963/get-max-value-from-duplicate-data-with-other-columns-python-3-6\n",
      "How to calculate the angle of ellipse Gaussian distribution https://stackoverflow.com/questions/47936890/how-to-calculate-the-angle-of-ellipse-gaussian-distribution\n",
      "Need to get length of data frame stored in elements of list in python pandas https://stackoverflow.com/questions/47936741/need-to-get-length-of-data-frame-stored-in-elements-of-list-in-python-pandas\n",
      "Convert list of string to list of dictionary [duplicate] https://stackoverflow.com/questions/47936735/convert-list-of-string-to-list-of-dictionary\n",
      "python regex skipping optional words not working https://stackoverflow.com/questions/47936681/python-regex-skipping-optional-words-not-working\n",
      "tensorflow error : 'ConfigProto' object has no attribute 'name' https://stackoverflow.com/questions/47936668/tensorflow-error-configproto-object-has-no-attribute-name\n",
      "Incorrect use of np.where https://stackoverflow.com/questions/47936662/incorrect-use-of-np-where\n",
      "Insert json string into table https://stackoverflow.com/questions/47936640/insert-json-string-into-table\n",
      "What does “Client failed to connect to the D-BUS daemon” mean? https://stackoverflow.com/questions/47936584/what-does-client-failed-to-connect-to-the-d-bus-daemon-mean\n",
      "word2Vec vector representation for text classification algorithm https://stackoverflow.com/questions/47936578/word2vec-vector-representation-for-text-classification-algorithm\n",
      "How do I check for an exact string in a line only when it's spaced out from other characters? https://stackoverflow.com/questions/47936547/how-do-i-check-for-an-exact-string-in-a-line-only-when-its-spaced-out-from-othe\n",
      "How to do Multi-processing for training the NER using spaCy https://stackoverflow.com/questions/47936538/how-to-do-multi-processing-for-training-the-ner-using-spacy\n",
      "Why i cannot use “int ” here? https://stackoverflow.com/questions/47936531/why-i-cannot-use-int-here\n",
      "Error Message: “No module named 'django.core.urlresolvers”.Even though I've replaced the module https://stackoverflow.com/questions/47936526/error-message-no-module-named-django-core-urlresolvers-even-though-ive-repl\n",
      "How do I go about licensing an executable? https://stackoverflow.com/questions/47936496/how-do-i-go-about-licensing-an-executable\n",
      "can we learn angularjs for front end and python for backend to become a full stack developer? https://stackoverflow.com/questions/47936481/can-we-learn-angularjs-for-front-end-and-python-for-backend-to-become-a-full-sta\n",
      "I don't know why it kept popping up with an error message https://stackoverflow.com/questions/47936475/i-dont-know-why-it-kept-popping-up-with-an-error-message\n",
      "Is there a function similar to OpenCV findContours that detects curves and replaces points with a spline? https://stackoverflow.com/questions/47936474/is-there-a-function-similar-to-opencv-findcontours-that-detects-curves-and-repla\n",
      "Passing user input from Swift to Python https://stackoverflow.com/questions/47936445/passing-user-input-from-swift-to-python\n",
      "Receiving incorrect rowcount using Python 3 and MySQLdb https://stackoverflow.com/questions/47936431/receiving-incorrect-rowcount-using-python-3-and-mysqldb\n",
      "blockinfile and lineinfile errors https://stackoverflow.com/questions/47936384/blockinfile-and-lineinfile-errors\n",
      "reading an opencv image in python through a socket https://stackoverflow.com/questions/47936365/reading-an-opencv-image-in-python-through-a-socket\n",
      "Printing stderr with logging module https://stackoverflow.com/questions/47936254/printing-stderr-with-logging-module\n"
     ]
    }
   ],
   "source": [
    "for a in all_a:\n",
    "    question = a.text\n",
    "    link = url + a['href']\n",
    "    print(question, link)"
   ]
  },
  {
   "cell_type": "code",
   "execution_count": null,
   "metadata": {
    "collapsed": true
   },
   "outputs": [],
   "source": []
  }
 ],
 "metadata": {
  "kernelspec": {
   "display_name": "Python 3",
   "language": "python",
   "name": "python3"
  },
  "language_info": {
   "codemirror_mode": {
    "name": "ipython",
    "version": 3
   },
   "file_extension": ".py",
   "mimetype": "text/x-python",
   "name": "python",
   "nbconvert_exporter": "python",
   "pygments_lexer": "ipython3",
   "version": "3.6.0"
  }
 },
 "nbformat": 4,
 "nbformat_minor": 2
}
