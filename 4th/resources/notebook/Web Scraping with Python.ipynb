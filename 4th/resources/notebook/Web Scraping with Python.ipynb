{
 "cells": [
  {
   "cell_type": "code",
   "execution_count": 1,
   "metadata": {
    "collapsed": true
   },
   "outputs": [],
   "source": [
    "import requests\n",
    "from bs4 import BeautifulSoup"
   ]
  },
  {
   "cell_type": "code",
   "execution_count": 2,
   "metadata": {
    "collapsed": false
   },
   "outputs": [
    {
     "name": "stdout",
     "output_type": "stream",
     "text": [
      "<Response [200]>\n"
     ]
    }
   ],
   "source": [
    "url = \"https://www.naver.com/\"\n",
    "response = requests.get(url)\n",
    "print(response)"
   ]
  },
  {
   "cell_type": "code",
   "execution_count": 4,
   "metadata": {
    "collapsed": false
   },
   "outputs": [],
   "source": [
    "html = response.text"
   ]
  },
  {
   "cell_type": "code",
   "execution_count": 6,
   "metadata": {
    "collapsed": false,
    "scrolled": false
   },
   "outputs": [
    {
     "name": "stdout",
     "output_type": "stream",
     "text": [
      "<ul class=\"ah_l\">\n",
      "<li class=\"ah_item\">\n",
      "<a class=\"ah_a\" data-clk=\"lve.keyword\" href=\"#\">\n",
      "<span class=\"ah_r\">1</span>\n",
      "<span class=\"ah_k\">안다</span>\n",
      "</a>\n",
      "</li>\n",
      "<li class=\"ah_item\">\n",
      "<a class=\"ah_a\" data-clk=\"lve.keyword\" href=\"#\">\n",
      "<span class=\"ah_r\">2</span>\n",
      "<span class=\"ah_k\">드라이비트</span>\n",
      "</a>\n",
      "</li>\n",
      "<li class=\"ah_item\">\n",
      "<a class=\"ah_a\" data-clk=\"lve.keyword\" href=\"#\">\n",
      "<span class=\"ah_r\">3</span>\n",
      "<span class=\"ah_k\">만수르</span>\n",
      "</a>\n",
      "</li>\n",
      "<li class=\"ah_item\">\n",
      "<a class=\"ah_a\" data-clk=\"lve.keyword\" href=\"#\">\n",
      "<span class=\"ah_r\">4</span>\n",
      "<span class=\"ah_k\">홍준표</span>\n",
      "</a>\n",
      "</li>\n",
      "<li class=\"ah_item\">\n",
      "<a class=\"ah_a\" data-clk=\"lve.keyword\" href=\"#\">\n",
      "<span class=\"ah_r\">5</span>\n",
      "<span class=\"ah_k\">홍준표 대법원</span>\n",
      "</a>\n",
      "</li>\n",
      "<li class=\"ah_item\">\n",
      "<a class=\"ah_a\" data-clk=\"lve.keyword\" href=\"#\">\n",
      "<span class=\"ah_r\">6</span>\n",
      "<span class=\"ah_k\">제천 화재</span>\n",
      "</a>\n",
      "</li>\n",
      "<li class=\"ah_item\">\n",
      "<a class=\"ah_a\" data-clk=\"lve.keyword\" href=\"#\">\n",
      "<span class=\"ah_r\">7</span>\n",
      "<span class=\"ah_k\">제천 화재 원인</span>\n",
      "</a>\n",
      "</li>\n",
      "<li class=\"ah_item\">\n",
      "<a class=\"ah_a\" data-clk=\"lve.keyword\" href=\"#\">\n",
      "<span class=\"ah_r\">8</span>\n",
      "<span class=\"ah_k\">애동지</span>\n",
      "</a>\n",
      "</li>\n",
      "<li class=\"ah_item\">\n",
      "<a class=\"ah_a\" data-clk=\"lve.keyword\" href=\"#\">\n",
      "<span class=\"ah_r\">9</span>\n",
      "<span class=\"ah_k\">동지</span>\n",
      "</a>\n",
      "</li>\n",
      "<li class=\"ah_item\">\n",
      "<a class=\"ah_a\" data-clk=\"lve.keyword\" href=\"#\">\n",
      "<span class=\"ah_r\">10</span>\n",
      "<span class=\"ah_k\">너의 이름은</span>\n",
      "</a>\n",
      "</li>\n",
      "<li class=\"ah_item\">\n",
      "<a class=\"ah_a\" data-clk=\"lve.keyword\" href=\"#\">\n",
      "<span class=\"ah_r\">11</span>\n",
      "<span class=\"ah_k\">최희서</span>\n",
      "</a>\n",
      "</li>\n",
      "<li class=\"ah_item\">\n",
      "<a class=\"ah_a\" data-clk=\"lve.keyword\" href=\"#\">\n",
      "<span class=\"ah_r\">12</span>\n",
      "<span class=\"ah_k\">가상화폐</span>\n",
      "</a>\n",
      "</li>\n",
      "<li class=\"ah_item\">\n",
      "<a class=\"ah_a\" data-clk=\"lve.keyword\" href=\"#\">\n",
      "<span class=\"ah_r\">13</span>\n",
      "<span class=\"ah_k\">이강인</span>\n",
      "</a>\n",
      "</li>\n",
      "<li class=\"ah_item\">\n",
      "<a class=\"ah_a\" data-clk=\"lve.keyword\" href=\"#\">\n",
      "<span class=\"ah_r\">14</span>\n",
      "<span class=\"ah_k\">진학사어플라이</span>\n",
      "</a>\n",
      "</li>\n",
      "<li class=\"ah_item\">\n",
      "<a class=\"ah_a\" data-clk=\"lve.keyword\" href=\"#\">\n",
      "<span class=\"ah_r\">15</span>\n",
      "<span class=\"ah_k\">신동빈</span>\n",
      "</a>\n",
      "</li>\n",
      "<li class=\"ah_item\">\n",
      "<a class=\"ah_a\" data-clk=\"lve.keyword\" href=\"#\">\n",
      "<span class=\"ah_r\">16</span>\n",
      "<span class=\"ah_k\">제천</span>\n",
      "</a>\n",
      "</li>\n",
      "<li class=\"ah_item\">\n",
      "<a class=\"ah_a\" data-clk=\"lve.keyword\" href=\"#\">\n",
      "<span class=\"ah_r\">17</span>\n",
      "<span class=\"ah_k\">박진주</span>\n",
      "</a>\n",
      "</li>\n",
      "<li class=\"ah_item\">\n",
      "<a class=\"ah_a\" data-clk=\"lve.keyword\" href=\"#\">\n",
      "<span class=\"ah_r\">18</span>\n",
      "<span class=\"ah_k\">류여해</span>\n",
      "</a>\n",
      "</li>\n",
      "<li class=\"ah_item\">\n",
      "<a class=\"ah_a\" data-clk=\"lve.keyword\" href=\"#\">\n",
      "<span class=\"ah_r\">19</span>\n",
      "<span class=\"ah_k\">감시자들</span>\n",
      "</a>\n",
      "</li>\n",
      "<li class=\"ah_item\">\n",
      "<a class=\"ah_a\" data-clk=\"lve.keyword\" href=\"#\">\n",
      "<span class=\"ah_r\">20</span>\n",
      "<span class=\"ah_k\">제천 스포츠센터</span>\n",
      "</a>\n",
      "</li>\n",
      "</ul>\n"
     ]
    }
   ],
   "source": [
    "#BeautifulSoup\n",
    "soup = BeautifulSoup(html, \"html.parser\") # html.parser, lxml\n",
    "ul = soup.find(\"ul\", attrs={\"class\":\"ah_l\"})\n",
    "print(ul)"
   ]
  },
  {
   "cell_type": "code",
   "execution_count": 7,
   "metadata": {
    "collapsed": false
   },
   "outputs": [
    {
     "name": "stdout",
     "output_type": "stream",
     "text": [
      "[<li class=\"ah_item\">\n",
      "<a class=\"ah_a\" data-clk=\"lve.keyword\" href=\"#\">\n",
      "<span class=\"ah_r\">1</span>\n",
      "<span class=\"ah_k\">안다</span>\n",
      "</a>\n",
      "</li>, <li class=\"ah_item\">\n",
      "<a class=\"ah_a\" data-clk=\"lve.keyword\" href=\"#\">\n",
      "<span class=\"ah_r\">2</span>\n",
      "<span class=\"ah_k\">드라이비트</span>\n",
      "</a>\n",
      "</li>, <li class=\"ah_item\">\n",
      "<a class=\"ah_a\" data-clk=\"lve.keyword\" href=\"#\">\n",
      "<span class=\"ah_r\">3</span>\n",
      "<span class=\"ah_k\">만수르</span>\n",
      "</a>\n",
      "</li>, <li class=\"ah_item\">\n",
      "<a class=\"ah_a\" data-clk=\"lve.keyword\" href=\"#\">\n",
      "<span class=\"ah_r\">4</span>\n",
      "<span class=\"ah_k\">홍준표</span>\n",
      "</a>\n",
      "</li>, <li class=\"ah_item\">\n",
      "<a class=\"ah_a\" data-clk=\"lve.keyword\" href=\"#\">\n",
      "<span class=\"ah_r\">5</span>\n",
      "<span class=\"ah_k\">홍준표 대법원</span>\n",
      "</a>\n",
      "</li>, <li class=\"ah_item\">\n",
      "<a class=\"ah_a\" data-clk=\"lve.keyword\" href=\"#\">\n",
      "<span class=\"ah_r\">6</span>\n",
      "<span class=\"ah_k\">제천 화재</span>\n",
      "</a>\n",
      "</li>, <li class=\"ah_item\">\n",
      "<a class=\"ah_a\" data-clk=\"lve.keyword\" href=\"#\">\n",
      "<span class=\"ah_r\">7</span>\n",
      "<span class=\"ah_k\">제천 화재 원인</span>\n",
      "</a>\n",
      "</li>, <li class=\"ah_item\">\n",
      "<a class=\"ah_a\" data-clk=\"lve.keyword\" href=\"#\">\n",
      "<span class=\"ah_r\">8</span>\n",
      "<span class=\"ah_k\">애동지</span>\n",
      "</a>\n",
      "</li>, <li class=\"ah_item\">\n",
      "<a class=\"ah_a\" data-clk=\"lve.keyword\" href=\"#\">\n",
      "<span class=\"ah_r\">9</span>\n",
      "<span class=\"ah_k\">동지</span>\n",
      "</a>\n",
      "</li>, <li class=\"ah_item\">\n",
      "<a class=\"ah_a\" data-clk=\"lve.keyword\" href=\"#\">\n",
      "<span class=\"ah_r\">10</span>\n",
      "<span class=\"ah_k\">너의 이름은</span>\n",
      "</a>\n",
      "</li>, <li class=\"ah_item\">\n",
      "<a class=\"ah_a\" data-clk=\"lve.keyword\" href=\"#\">\n",
      "<span class=\"ah_r\">11</span>\n",
      "<span class=\"ah_k\">최희서</span>\n",
      "</a>\n",
      "</li>, <li class=\"ah_item\">\n",
      "<a class=\"ah_a\" data-clk=\"lve.keyword\" href=\"#\">\n",
      "<span class=\"ah_r\">12</span>\n",
      "<span class=\"ah_k\">가상화폐</span>\n",
      "</a>\n",
      "</li>, <li class=\"ah_item\">\n",
      "<a class=\"ah_a\" data-clk=\"lve.keyword\" href=\"#\">\n",
      "<span class=\"ah_r\">13</span>\n",
      "<span class=\"ah_k\">이강인</span>\n",
      "</a>\n",
      "</li>, <li class=\"ah_item\">\n",
      "<a class=\"ah_a\" data-clk=\"lve.keyword\" href=\"#\">\n",
      "<span class=\"ah_r\">14</span>\n",
      "<span class=\"ah_k\">진학사어플라이</span>\n",
      "</a>\n",
      "</li>, <li class=\"ah_item\">\n",
      "<a class=\"ah_a\" data-clk=\"lve.keyword\" href=\"#\">\n",
      "<span class=\"ah_r\">15</span>\n",
      "<span class=\"ah_k\">신동빈</span>\n",
      "</a>\n",
      "</li>, <li class=\"ah_item\">\n",
      "<a class=\"ah_a\" data-clk=\"lve.keyword\" href=\"#\">\n",
      "<span class=\"ah_r\">16</span>\n",
      "<span class=\"ah_k\">제천</span>\n",
      "</a>\n",
      "</li>, <li class=\"ah_item\">\n",
      "<a class=\"ah_a\" data-clk=\"lve.keyword\" href=\"#\">\n",
      "<span class=\"ah_r\">17</span>\n",
      "<span class=\"ah_k\">박진주</span>\n",
      "</a>\n",
      "</li>, <li class=\"ah_item\">\n",
      "<a class=\"ah_a\" data-clk=\"lve.keyword\" href=\"#\">\n",
      "<span class=\"ah_r\">18</span>\n",
      "<span class=\"ah_k\">류여해</span>\n",
      "</a>\n",
      "</li>, <li class=\"ah_item\">\n",
      "<a class=\"ah_a\" data-clk=\"lve.keyword\" href=\"#\">\n",
      "<span class=\"ah_r\">19</span>\n",
      "<span class=\"ah_k\">감시자들</span>\n",
      "</a>\n",
      "</li>, <li class=\"ah_item\">\n",
      "<a class=\"ah_a\" data-clk=\"lve.keyword\" href=\"#\">\n",
      "<span class=\"ah_r\">20</span>\n",
      "<span class=\"ah_k\">제천 스포츠센터</span>\n",
      "</a>\n",
      "</li>]\n"
     ]
    }
   ],
   "source": [
    "all_li = ul.find_all(\"li\")\n",
    "print(all_li)"
   ]
  },
  {
   "cell_type": "code",
   "execution_count": 8,
   "metadata": {
    "collapsed": false
   },
   "outputs": [
    {
     "name": "stdout",
     "output_type": "stream",
     "text": [
      "1 안다\n",
      "2 드라이비트\n",
      "3 만수르\n",
      "4 홍준표\n",
      "5 홍준표 대법원\n",
      "6 제천 화재\n",
      "7 제천 화재 원인\n",
      "8 애동지\n",
      "9 동지\n",
      "10 너의 이름은\n",
      "11 최희서\n",
      "12 가상화폐\n",
      "13 이강인\n",
      "14 진학사어플라이\n",
      "15 신동빈\n",
      "16 제천\n",
      "17 박진주\n",
      "18 류여해\n",
      "19 감시자들\n",
      "20 제천 스포츠센터\n"
     ]
    }
   ],
   "source": [
    "for li in all_li:\n",
    "    all_span = li.find_all(\"span\")\n",
    "    rank = all_span[0].text\n",
    "    keyword = all_span[1].text\n",
    "    print(rank, keyword)"
   ]
  },
  {
   "cell_type": "code",
   "execution_count": 11,
   "metadata": {
    "collapsed": false
   },
   "outputs": [
    {
     "name": "stdout",
     "output_type": "stream",
     "text": [
      "['1', '2', '3', '4', '5', '6', '7', '8', '9', '10', '11', '12', '13', '14', '15', '16', '17', '18', '19', '20', '1', '2', '3', '4', '5', '6', '7', '8', '9', '10', '11', '12', '13', '14', '15', '16', '17', '18', '19', '20'] ['안다', '드라이비트', '만수르', '홍준표', '홍준표 대법원', '제천 화재', '제천 화재 원인', '애동지', '동지', '너의 이름은', '최희서', '가상화폐', '이강인', '진학사어플라이', '신동빈', '제천', '박진주', '류여해', '감시자들', '제천 스포츠센터', '안다', '드라이비트', '만수르', '홍준표', '홍준표 대법원', '제천 화재', '제천 화재 원인', '애동지', '동지', '너의 이름은', '최희서', '가상화폐', '이강인', '진학사어플라이', '신동빈', '제천', '박진주', '류여해', '감시자들', '제천 스포츠센터']\n"
     ]
    }
   ],
   "source": [
    "# another approach\n",
    "soup = BeautifulSoup(html, \"html.parser\")\n",
    "ranks = soup.find_all(\"span\", attrs={\"class\":\"ah_r\"})\n",
    "keywords = soup.find_all(\"span\", attrs={\"class\":\"ah_k\"})\n",
    "ranks = [span.text for span in ranks]\n",
    "keywords = [span.text for span in keywords]\n",
    "print(ranks, keywords)"
   ]
  },
  {
   "cell_type": "code",
   "execution_count": null,
   "metadata": {
    "collapsed": true
   },
   "outputs": [],
   "source": []
  },
  {
   "cell_type": "code",
   "execution_count": null,
   "metadata": {
    "collapsed": true
   },
   "outputs": [],
   "source": []
  },
  {
   "cell_type": "code",
   "execution_count": null,
   "metadata": {
    "collapsed": true
   },
   "outputs": [],
   "source": []
  },
  {
   "cell_type": "code",
   "execution_count": null,
   "metadata": {
    "collapsed": true
   },
   "outputs": [],
   "source": []
  },
  {
   "cell_type": "code",
   "execution_count": null,
   "metadata": {
    "collapsed": true
   },
   "outputs": [],
   "source": []
  },
  {
   "cell_type": "code",
   "execution_count": null,
   "metadata": {
    "collapsed": true
   },
   "outputs": [],
   "source": []
  },
  {
   "cell_type": "code",
   "execution_count": null,
   "metadata": {
    "collapsed": true
   },
   "outputs": [],
   "source": []
  },
  {
   "cell_type": "code",
   "execution_count": null,
   "metadata": {
    "collapsed": true
   },
   "outputs": [],
   "source": []
  }
 ],
 "metadata": {
  "kernelspec": {
   "display_name": "Python 3",
   "language": "python",
   "name": "python3"
  },
  "language_info": {
   "codemirror_mode": {
    "name": "ipython",
    "version": 3
   },
   "file_extension": ".py",
   "mimetype": "text/x-python",
   "name": "python",
   "nbconvert_exporter": "python",
   "pygments_lexer": "ipython3",
   "version": "3.6.0"
  }
 },
 "nbformat": 4,
 "nbformat_minor": 2
}
